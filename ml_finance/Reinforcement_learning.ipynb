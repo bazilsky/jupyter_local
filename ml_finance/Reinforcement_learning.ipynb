{
 "cells": [
  {
   "cell_type": "code",
   "execution_count": 11,
   "id": "63c8351c-09d1-4dad-b97f-b2d3c738152a",
   "metadata": {},
   "outputs": [],
   "source": [
    "# Coin that lands 80% on heads and 20% on tails\n",
    "\n",
    "import numpy as np\n",
    "\n",
    "ssp = [1,1,1,1,0]; # state space heavily biased coin\n",
    "asp = [1,0]; # based on normal coin toss .. as the coin tossing game progresses, how will the action space change or learn from the results\n",
    "\n",
    "\n",
    "# np.random.choice takes an element randomly from the array\n",
    "def epoch_1():\n",
    "    tr = 0 \n",
    "    # simulating 100 tosses \n",
    "    for _ in range(100):\n",
    "        # simulating a coin toss using random.choice\n",
    "        a = np.random.choice(asp)\n",
    "        s = np.random.choice(ssp)\n",
    "        if a == s:\n",
    "            tr+=1; # reward for the action space\n",
    "            \n",
    "    return tr\n"
   ]
  },
  {
   "cell_type": "code",
   "execution_count": 15,
   "id": "3638b230-5a69-4423-a804-5fba99083727",
   "metadata": {},
   "outputs": [
    {
     "name": "stdout",
     "output_type": "stream",
     "text": [
      "rl_mean =  51.0\n"
     ]
    }
   ],
   "source": [
    "rl = np.array([epoch_1() for _ in range(15)])\n",
    "rl\n",
    "print('rl_mean = ',rl.mean())"
   ]
  },
  {
   "cell_type": "code",
   "execution_count": 16,
   "id": "d2675430-792a-42e0-83ff-84ac4d2ab558",
   "metadata": {},
   "outputs": [],
   "source": [
    "# action space appended based on the results of each toss\n",
    "def epoch_2():\n",
    "    tr=0\n",
    "    asp=[0,1]\n",
    "    for _ in range(100):\n",
    "        a = np.random.choice(asp) \n",
    "        s = np.random.choice(ssp) \n",
    "        if a==s:\n",
    "            tr+=1 \n",
    "        asp.append(s)\n",
    "    return tr"
   ]
  },
  {
   "cell_type": "code",
   "execution_count": 21,
   "id": "52806a63-bcc9-4cbe-a83d-44a7154d9c64",
   "metadata": {},
   "outputs": [
    {
     "name": "stdout",
     "output_type": "stream",
     "text": [
      "RL mean after appending the action space =  65.8\n"
     ]
    }
   ],
   "source": [
    "rl_2 = np.array([epoch_2() for _ in range(15)]);\n",
    "rl_2 \n",
    "print('RL mean after appending the action space = ', round(rl_2.mean(),2))"
   ]
  },
  {
   "cell_type": "code",
   "execution_count": null,
   "id": "f310a116-eda2-4e0b-a62d-f02c886012e9",
   "metadata": {},
   "outputs": [],
   "source": []
  }
 ],
 "metadata": {
  "kernelspec": {
   "display_name": "Python 3 (ipykernel)",
   "language": "python",
   "name": "python3"
  },
  "language_info": {
   "codemirror_mode": {
    "name": "ipython",
    "version": 3
   },
   "file_extension": ".py",
   "mimetype": "text/x-python",
   "name": "python",
   "nbconvert_exporter": "python",
   "pygments_lexer": "ipython3",
   "version": "3.8.2"
  }
 },
 "nbformat": 4,
 "nbformat_minor": 5
}
