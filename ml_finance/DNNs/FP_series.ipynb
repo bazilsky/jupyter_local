{
 "cells": [
  {
   "cell_type": "code",
   "execution_count": 3,
   "id": "a728f920-620d-4b50-a6f8-94fb5926da40",
   "metadata": {},
   "outputs": [],
   "source": [
    "# training an RNN to a financial time series\n",
    "import os \n",
    "import random \n",
    "import numpy as np \n",
    "import pandas as pd\n",
    "import tensorflow as tf \n",
    "from pprint import pprint\n",
    "from pylab import plt,mpl\n",
    "plt.style.use('seaborn')\n",
    "mpl.rcParams['savefig.dpi'] = 300\n",
    "mpl.rcParams['font.family'] = 'serif'\n",
    "pd.set_option('precision',4)\n",
    "np.set_printoptions(suppress = True, precision = 4)\n",
    "os.environ['PYTHONHASHSEED'] = '0'\n",
    "\n",
    "\n",
    "\n",
    "\n",
    "\n"
   ]
  },
  {
   "cell_type": "code",
   "execution_count": 4,
   "id": "ab8a10fa-2377-460e-b2e1-fe00e59b64de",
   "metadata": {},
   "outputs": [],
   "source": [
    "url = 'http://hilpisch.com/aiif_eikon_id_eur_usd.csv'\n",
    "symbol = 'EUR_USD'\n",
    "raw = pd.read_csv(url,index_col = 0, parse_dates = True)\n",
    "\n"
   ]
  },
  {
   "cell_type": "code",
   "execution_count": 5,
   "id": "58e30c9b-bd9b-460e-af79-f5e25a996342",
   "metadata": {},
   "outputs": [],
   "source": [
    "def generate_data():\n",
    "    data = pd.DataFrame(raw['CLOSE'])\n",
    "    data.columns = [symbol]\n",
    "    data = data.resample('30min',label = 'right').last().ffill()\n",
    "    return data"
   ]
  },
  {
   "cell_type": "code",
   "execution_count": 7,
   "id": "080cb27c-5592-4aab-920a-a6824b190ac6",
   "metadata": {},
   "outputs": [],
   "source": [
    "data = generate_data()"
   ]
  },
  {
   "cell_type": "code",
   "execution_count": 13,
   "id": "80090537-fad8-49f6-aea0-0a1c3f910c40",
   "metadata": {},
   "outputs": [],
   "source": [
    "data = (data - data.mean())/data.std()\n",
    "p = data[symbol].values\n",
    "p = p.reshape((len(p),-1))"
   ]
  },
  {
   "cell_type": "code",
   "execution_count": 12,
   "id": "8db705b6-3bce-4aa2-ae4b-ad40a44c9843",
   "metadata": {},
   "outputs": [
    {
     "data": {
      "text/plain": [
       "numpy.ndarray"
      ]
     },
     "execution_count": 12,
     "metadata": {},
     "output_type": "execute_result"
    }
   ],
   "source": [
    "type(p)"
   ]
  },
  {
   "cell_type": "code",
   "execution_count": 15,
   "id": "354915a9-9b3b-4e75-a0b8-64550e7b90ad",
   "metadata": {},
   "outputs": [
    {
     "name": "stderr",
     "output_type": "stream",
     "text": [
      "Using TensorFlow backend.\n"
     ]
    }
   ],
   "source": [
    "from keras.preprocessing.sequence import TimeseriesGenerator\n",
    "\n",
    "\n",
    "lags = 5\n",
    "g= TimeseriesGenerator(p,p,length = lags, batch_size = 5)"
   ]
  },
  {
   "cell_type": "code",
   "execution_count": 16,
   "id": "bde92e51-0d38-4fe4-b8ac-23bd255a6e3e",
   "metadata": {},
   "outputs": [],
   "source": [
    "from keras.models import Sequential\n",
    "from keras.layers import SimpleRNN, LSTM, Dense\n"
   ]
  },
  {
   "cell_type": "code",
   "execution_count": 17,
   "id": "27c3bdae-707c-4d2f-a9e7-bee481f0a802",
   "metadata": {},
   "outputs": [],
   "source": [
    "def create_rnn_model(hu = 100, lags = lags, layer = 'SimpleRNN', \n",
    "                    features = 1, algorithm = 'estimation'):\n",
    "    model = Sequential()\n",
    "    if layer is 'SimpleRNN':\n",
    "        model.add(SimpleRNN(hu, activation = 'relu', \n",
    "                           input_shape = (lags, features)))\n",
    "    else:\n",
    "        model.add(LSTM(hu, activation = 'relu', input_shape = (lags, features)))\n",
    "    if algorithm == 'estimation':\n",
    "        model.add(Dense(1,activation = 'linear'))\n",
    "        model.compile(optimizer = 'adam', loss = 'mse', metrics = ['mae'])\n",
    "    else:\n",
    "        model.add(Dense(1,activation = 'sigmoid'))\n",
    "        model.compile(optimizer = 'adam', loss = 'mae', metrics = ['accuracy'])\n",
    "    return model"
   ]
  },
  {
   "cell_type": "code",
   "execution_count": 18,
   "id": "684df275-2285-4f38-b203-4f2c034c5382",
   "metadata": {},
   "outputs": [
    {
     "name": "stderr",
     "output_type": "stream",
     "text": [
      "2023-01-24 21:15:58.620912: I tensorflow/core/platform/cpu_feature_guard.cc:145] This TensorFlow binary is optimized with Intel(R) MKL-DNN to use the following CPU instructions in performance critical operations:  SSE4.1 SSE4.2\n",
      "To enable them in non-MKL-DNN operations, rebuild TensorFlow with the appropriate compiler flags.\n",
      "2023-01-24 21:15:58.622789: I tensorflow/core/common_runtime/process_util.cc:115] Creating new thread pool with default inter op setting: 8. Tune using inter_op_parallelism_threads for best performance.\n"
     ]
    }
   ],
   "source": [
    "model = create_rnn_model()"
   ]
  },
  {
   "cell_type": "code",
   "execution_count": 19,
   "id": "58f9c475-70bd-4564-953b-389718a1497f",
   "metadata": {},
   "outputs": [
    {
     "name": "stdout",
     "output_type": "stream",
     "text": [
      "CPU times: user 41.2 s, sys: 2.99 s, total: 44.2 s\n",
      "Wall time: 18.4 s\n"
     ]
    },
    {
     "data": {
      "text/plain": [
       "<keras.callbacks.callbacks.History at 0x7fbc658fe390>"
      ]
     },
     "execution_count": 19,
     "metadata": {},
     "output_type": "execute_result"
    }
   ],
   "source": [
    "%%time\n",
    "model.fit_generator(g, epochs = 500, steps_per_epoch = 10, verbose = False)"
   ]
  },
  {
   "cell_type": "code",
   "execution_count": 20,
   "id": "5373ce81-45be-4171-ac2e-1cab72fb0ad7",
   "metadata": {},
   "outputs": [],
   "source": [
    "y = model.predict(g, verbose = False)\n",
    "data['pred'] = np.nan\n",
    "data['pred'].iloc[lags:] = y.flatten()"
   ]
  },
  {
   "cell_type": "code",
   "execution_count": 21,
   "id": "4fe8a0b1-b984-4f12-a184-13010c647248",
   "metadata": {},
   "outputs": [
    {
     "data": {
      "text/plain": [
       "<AxesSubplot:xlabel='Date'>"
      ]
     },
     "execution_count": 21,
     "metadata": {},
     "output_type": "execute_result"
    },
    {
     "data": {
      "image/png": "[encoded data removed]",
      "text/plain": [
       "<Figure size 720x432 with 1 Axes>"
      ]
     },
     "metadata": {},
     "output_type": "display_data"
    }
   ],
   "source": [
    "data[[symbol, 'pred']].plot(\n",
    "    figsize = (10,6), style = ['b','r-.'], \n",
    "    alpha = 0.75)"
   ]
  },
  {
   "cell_type": "code",
   "execution_count": 22,
   "id": "8030a77f-3dcb-4f02-8449-0da890a1c75f",
   "metadata": {},
   "outputs": [],
   "source": [
    "# financial return series \n",
    "data = generate_data()\n",
    "data['r'] = np.log(data/data.shift(1))\n"
   ]
  },
  {
   "cell_type": "code",
   "execution_count": 23,
   "id": "e1d100ed-2f74-4215-8425-8746e1031be6",
   "metadata": {},
   "outputs": [],
   "source": [
    "data.dropna(inplace = True)\n",
    "data = (data - data.mean())/data.std()\n",
    "r = data['r'].values\n",
    "r = r.reshape((len(r), -1))"
   ]
  },
  {
   "cell_type": "code",
   "execution_count": 24,
   "id": "e7bff557-7449-4b87-be9a-acec7e74907a",
   "metadata": {},
   "outputs": [],
   "source": [
    "g = TimeseriesGenerator(r,r,length = lags, batch_size = 5)"
   ]
  },
  {
   "cell_type": "code",
   "execution_count": 25,
   "id": "f3b2e725-4960-4444-9032-8a28f387b06c",
   "metadata": {},
   "outputs": [],
   "source": [
    "model = create_rnn_model()\n"
   ]
  },
  {
   "cell_type": "code",
   "execution_count": 26,
   "id": "e4f8f5b2-894f-479c-9a62-cf70072ead25",
   "metadata": {},
   "outputs": [
    {
     "name": "stdout",
     "output_type": "stream",
     "text": [
      "CPU times: user 41 s, sys: 2.96 s, total: 43.9 s\n",
      "Wall time: 17.9 s\n"
     ]
    },
    {
     "data": {
      "text/plain": [
       "<keras.callbacks.callbacks.History at 0x7fbc66e47c50>"
      ]
     },
     "execution_count": 26,
     "metadata": {},
     "output_type": "execute_result"
    }
   ],
   "source": [
    "%%time\n",
    "model.fit_generator(g, epochs = 500, steps_per_epoch = 10, \n",
    "                   verbose = False)"
   ]
  },
  {
   "cell_type": "code",
   "execution_count": 27,
   "id": "d1f28da6-3540-4bd3-bbbf-5b6b8c664ee1",
   "metadata": {},
   "outputs": [],
   "source": [
    "y = model.predict(g, verbose = False)"
   ]
  },
  {
   "cell_type": "code",
   "execution_count": 28,
   "id": "46b92e09-9eb7-456d-a8ff-a7d3be898048",
   "metadata": {},
   "outputs": [],
   "source": [
    "data['pred'] = np.nan\n",
    "data['pred'].iloc[lags:] = y.flatten()\n",
    "data.dropna(inplace = True)\n"
   ]
  },
  {
   "cell_type": "code",
   "execution_count": 30,
   "id": "dba1e83f-3a51-4c2b-9384-d377a1da230e",
   "metadata": {},
   "outputs": [
    {
     "data": {
      "image/png": "[encoded data removed]",
      "text/plain": [
       "<Figure size 720x432 with 1 Axes>"
      ]
     },
     "metadata": {},
     "output_type": "display_data"
    }
   ],
   "source": [
    "data[['r', 'pred']].iloc[50:100].plot(\n",
    "    figsize = (10,6), style = ['b','r-.'], \n",
    "    alpha = 0.75);"
   ]
  },
  {
   "cell_type": "code",
   "execution_count": 33,
   "id": "7db25554-a705-4426-9c8e-fccbd44cbfae",
   "metadata": {},
   "outputs": [
    {
     "data": {
      "text/plain": [
       "0.678838738943071"
      ]
     },
     "execution_count": 33,
     "metadata": {},
     "output_type": "execute_result"
    }
   ],
   "source": [
    "# RNN performs better on the return than price series?\n",
    "\n",
    "from sklearn.metrics import accuracy_score\n",
    "accuracy_score(np.sign(data['r']), np.sign(data['pred']))"
   ]
  },
  {
   "cell_type": "code",
   "execution_count": 35,
   "id": "baa99436-9c8d-49fc-995d-f85a4e472b20",
   "metadata": {},
   "outputs": [],
   "source": [
    "# calculate accuracy score out of sample\n",
    "split = int(len(r*0.8))\n",
    "train = r[:split]\n",
    "test = r[split:]\n",
    "g = TimeseriesGenerator(train,train, length = lags, batch_size = 5)\n"
   ]
  },
  {
   "cell_type": "code",
   "execution_count": 37,
   "id": "9b73e9b2-062b-4989-bddb-e8614342d006",
   "metadata": {},
   "outputs": [],
   "source": [
    "def set_seeds(seed = 100):\n",
    "    random.seed(seed)\n",
    "    np.random.seed(seed)\n",
    "    tf.random.set_seed(seed)\n",
    "    \n",
    "set_seeds()"
   ]
  },
  {
   "cell_type": "code",
   "execution_count": 40,
   "id": "dbdd6cfa-103a-44fe-a28f-da4764a54822",
   "metadata": {},
   "outputs": [],
   "source": [
    "model = create_rnn_model(hu = 100)\n",
    "\n"
   ]
  },
  {
   "cell_type": "code",
   "execution_count": 43,
   "id": "e5dbff8d-f1c9-44fc-a10f-d1718f5fdefd",
   "metadata": {},
   "outputs": [
    {
     "name": "stdout",
     "output_type": "stream",
     "text": [
      "CPU times: user 7.79 s, sys: 559 ms, total: 8.35 s\n",
      "Wall time: 3.34 s\n"
     ]
    },
    {
     "data": {
      "text/plain": [
       "<keras.callbacks.callbacks.History at 0x7fbc5166a5d0>"
      ]
     },
     "execution_count": 43,
     "metadata": {},
     "output_type": "execute_result"
    }
   ],
   "source": [
    "%%time\n",
    "model.fit_generator(g, epochs = 100, steps_per_epoch = 10, verbose = False)"
   ]
  },
  {
   "cell_type": "code",
   "execution_count": 47,
   "id": "3e7452aa-5ebb-48dd-a0d6-93afd0b6b91d",
   "metadata": {},
   "outputs": [
    {
     "ename": "ValueError",
     "evalue": "`start_index+length=5 > end_index=-1` is disallowed, as no part of the sequence would be left to be used as current step.",
     "output_type": "error",
     "traceback": [
      "\u001b[0;31m---------------------------------------------------------------------------\u001b[0m",
      "\u001b[0;31mValueError\u001b[0m                                Traceback (most recent call last)",
      "\u001b[0;32m/var/folders/m6/qj3v2qcs35d7x8gdhqzsc7280000gn/T/ipykernel_48469/4189176398.py\u001b[0m in \u001b[0;36m<module>\u001b[0;34m\u001b[0m\n\u001b[0;32m----> 1\u001b[0;31m \u001b[0mg_\u001b[0m \u001b[0;34m=\u001b[0m \u001b[0mTimeseriesGenerator\u001b[0m\u001b[0;34m(\u001b[0m\u001b[0mtest\u001b[0m\u001b[0;34m,\u001b[0m\u001b[0mtest\u001b[0m\u001b[0;34m,\u001b[0m\u001b[0mlength\u001b[0m \u001b[0;34m=\u001b[0m \u001b[0mlags\u001b[0m\u001b[0;34m,\u001b[0m \u001b[0mbatch_size\u001b[0m \u001b[0;34m=\u001b[0m \u001b[0;36m5\u001b[0m\u001b[0;34m)\u001b[0m\u001b[0;34m\u001b[0m\u001b[0;34m\u001b[0m\u001b[0m\n\u001b[0m",
      "\u001b[0;32m~/miniconda3/envs/tensorflow_env/lib/python3.7/site-packages/keras_preprocessing/sequence.py\u001b[0m in \u001b[0;36m__init__\u001b[0;34m(self, data, targets, length, sampling_rate, stride, start_index, end_index, shuffle, reverse, batch_size)\u001b[0m\n\u001b[1;32m    355\u001b[0m                              \u001b[0;34m'is disallowed, as no part of the sequence '\u001b[0m\u001b[0;34m\u001b[0m\u001b[0;34m\u001b[0m\u001b[0m\n\u001b[1;32m    356\u001b[0m                              \u001b[0;34m'would be left to be used as current step.'\u001b[0m\u001b[0;34m\u001b[0m\u001b[0;34m\u001b[0m\u001b[0m\n\u001b[0;32m--> 357\u001b[0;31m                              % (self.start_index, self.end_index))\n\u001b[0m\u001b[1;32m    358\u001b[0m \u001b[0;34m\u001b[0m\u001b[0m\n\u001b[1;32m    359\u001b[0m     \u001b[0;32mdef\u001b[0m \u001b[0m__len__\u001b[0m\u001b[0;34m(\u001b[0m\u001b[0mself\u001b[0m\u001b[0;34m)\u001b[0m\u001b[0;34m:\u001b[0m\u001b[0;34m\u001b[0m\u001b[0;34m\u001b[0m\u001b[0m\n",
      "\u001b[0;31mValueError\u001b[0m: `start_index+length=5 > end_index=-1` is disallowed, as no part of the sequence would be left to be used as current step."
     ]
    }
   ],
   "source": [
    "g_ = TimeseriesGenerator(test,test,length = lags, batch_size = 5)\n"
   ]
  },
  {
   "cell_type": "code",
   "execution_count": 45,
   "id": "c9d9e70e-71fc-4c95-8842-b01311d6c6cc",
   "metadata": {},
   "outputs": [
    {
     "ename": "NameError",
     "evalue": "name 'g_' is not defined",
     "output_type": "error",
     "traceback": [
      "\u001b[0;31m---------------------------------------------------------------------------\u001b[0m",
      "\u001b[0;31mNameError\u001b[0m                                 Traceback (most recent call last)",
      "\u001b[0;32m/var/folders/m6/qj3v2qcs35d7x8gdhqzsc7280000gn/T/ipykernel_48469/1839945628.py\u001b[0m in \u001b[0;36m<module>\u001b[0;34m\u001b[0m\n\u001b[0;32m----> 1\u001b[0;31m \u001b[0my\u001b[0m \u001b[0;34m=\u001b[0m \u001b[0mmodel\u001b[0m\u001b[0;34m.\u001b[0m\u001b[0mpredict\u001b[0m\u001b[0;34m(\u001b[0m\u001b[0mg_\u001b[0m\u001b[0;34m)\u001b[0m\u001b[0;34m\u001b[0m\u001b[0;34m\u001b[0m\u001b[0m\n\u001b[0m",
      "\u001b[0;31mNameError\u001b[0m: name 'g_' is not defined"
     ]
    }
   ],
   "source": [
    "y = model.predict(g_)"
   ]
  },
  {
   "cell_type": "code",
   "execution_count": 46,
   "id": "a278c76e-32a9-406b-aebb-5f8a5077cf0d",
   "metadata": {},
   "outputs": [
    {
     "data": {
      "text/plain": [
       "5"
      ]
     },
     "execution_count": 46,
     "metadata": {},
     "output_type": "execute_result"
    }
   ],
   "source": [
    "lags"
   ]
  },
  {
   "cell_type": "code",
   "execution_count": 48,
   "id": "efa1f78b-c119-45df-9c1b-4c162674f597",
   "metadata": {},
   "outputs": [],
   "source": [
    "# financial features to improve the predictive capability of RNN\n",
    "data = generate_data()\n",
    "data['r'] = np.log(data/data.shift(1))\n",
    "window = 20\n",
    "data['mom'] = data['r'].rolling(window).mean()\n",
    "data['vol'] = data['r'].rolling(window).std()\n",
    "data.dropna(inplace = True)"
   ]
  },
  {
   "cell_type": "code",
   "execution_count": 49,
   "id": "4efdfbdd-e6b0-429f-88c5-0188d0ac7d95",
   "metadata": {},
   "outputs": [],
   "source": [
    "split = int(len(data)* 0.8)\n",
    "train = data.iloc[:split].copy()\n",
    "mu, std = train.mean(), train.std()\n",
    "train = (train - mu)/std # gaussian normalization to the training data\n",
    "test = data.iloc[split:].copy()\n",
    "test = (test-mu)/std\n"
   ]
  },
  {
   "cell_type": "code",
   "execution_count": 50,
   "id": "e078a68b-c020-43c2-94c6-f5347854c86a",
   "metadata": {},
   "outputs": [],
   "source": [
    "g = TimeseriesGenerator(train.values, train['r'].values, length = lags, \n",
    "                        batch_size = 5)\n",
    "set_seeds()\n",
    "model = create_rnn_model(hu = 100, features = len(data.columns), layer = 'SimpleRNN')\n"
   ]
  },
  {
   "cell_type": "code",
   "execution_count": 51,
   "id": "e3181877-1243-43c3-b079-d677bdfcdb5d",
   "metadata": {},
   "outputs": [
    {
     "data": {
      "text/plain": [
       "<keras.callbacks.callbacks.History at 0x7fbc51756f90>"
      ]
     },
     "execution_count": 51,
     "metadata": {},
     "output_type": "execute_result"
    }
   ],
   "source": [
    "model.fit_generator(g, epochs = 100, steps_per_epoch = 10, verbose = False)"
   ]
  },
  {
   "cell_type": "code",
   "execution_count": 52,
   "id": "8543923d-832a-49d4-856d-46a82428cba1",
   "metadata": {},
   "outputs": [],
   "source": [
    "g_ = TimeseriesGenerator(test.values, test['r'].values, length = lags, \n",
    "                         batch_size = 5)\n",
    "y = model.predict(g_).flatten()"
   ]
  },
  {
   "cell_type": "code",
   "execution_count": 53,
   "id": "4577814c-e05a-4478-9fb1-a2aa8dc67d4b",
   "metadata": {},
   "outputs": [
    {
     "data": {
      "text/plain": [
       "0.35697940503432496"
      ]
     },
     "execution_count": 53,
     "metadata": {},
     "output_type": "execute_result"
    }
   ],
   "source": [
    "accuracy_score(np.sign(test['r'].iloc[lags:]), np.sign(y))"
   ]
  },
  {
   "cell_type": "code",
   "execution_count": 54,
   "id": "acb671cc-bf7e-46b7-b30f-e0f7586afb88",
   "metadata": {},
   "outputs": [],
   "source": [
    "# classification\n",
    "set_seeds()\n",
    "model = create_rnn_model(hu = 50, features = len(data.columns),\n",
    "                        layer = 'LSTM',\n",
    "                        algorithm = 'classification')"
   ]
  },
  {
   "cell_type": "code",
   "execution_count": 55,
   "id": "54c82383-2f3a-4765-b516-9a915d0f4507",
   "metadata": {},
   "outputs": [
    {
     "data": {
      "text/plain": [
       "array([2374, 1142])"
      ]
     },
     "execution_count": 55,
     "metadata": {},
     "output_type": "execute_result"
    }
   ],
   "source": [
    "train_y = np.where(train['r'] > 0, 1, 0)\n",
    "np.bincount(train_y)"
   ]
  },
  {
   "cell_type": "code",
   "execution_count": 59,
   "id": "f4456ed2-9dfd-4d90-8952-b29c217719dc",
   "metadata": {},
   "outputs": [],
   "source": [
    "def cw(a):\n",
    "    c0,c1 = np.bincount(a)\n",
    "    w0 = (1/c0) * (len(a))/2\n",
    "    w1 = (1/c1) * (len(a))/2\n",
    "    return {0:w0, 1:w1}"
   ]
  },
  {
   "cell_type": "code",
   "execution_count": 60,
   "id": "ca791fb7-830b-40af-9c25-34a31441e5f9",
   "metadata": {},
   "outputs": [],
   "source": [
    "g = TimeseriesGenerator(train.values, train_y, length = lags, batch_size=5)\n"
   ]
  },
  {
   "cell_type": "code",
   "execution_count": 61,
   "id": "54b0d631-502b-41a8-aa42-77a5f88dda4d",
   "metadata": {},
   "outputs": [
    {
     "name": "stdout",
     "output_type": "stream",
     "text": [
      "CPU times: user 2.26 s, sys: 195 ms, total: 2.45 s\n",
      "Wall time: 1.97 s\n"
     ]
    },
    {
     "data": {
      "text/plain": [
       "<keras.callbacks.callbacks.History at 0x7fbc51639550>"
      ]
     },
     "execution_count": 61,
     "metadata": {},
     "output_type": "execute_result"
    }
   ],
   "source": [
    "%%time\n",
    "model.fit_generator(g,epochs = 5, steps_per_epoch = 10, verbose = False,\n",
    "                   class_weight = cw(train_y))\n"
   ]
  },
  {
   "cell_type": "code",
   "execution_count": 62,
   "id": "9b0a919f-6683-449a-96ed-e9814b3aa1a9",
   "metadata": {},
   "outputs": [],
   "source": [
    "test_y = np.where(test['r']>0,1,0)\n",
    "g_ = TimeseriesGenerator(test.values, test_y, \n",
    "                         length = lags, batch_size = 5)\n",
    "y = np.where(model.predict(g_, batch_size = None)>0.5,1,0).flatten()"
   ]
  },
  {
   "cell_type": "code",
   "execution_count": 63,
   "id": "fece4a59-6765-4cb5-a356-a6876c51cf19",
   "metadata": {},
   "outputs": [
    {
     "data": {
      "text/plain": [
       "array([480, 394])"
      ]
     },
     "execution_count": 63,
     "metadata": {},
     "output_type": "execute_result"
    }
   ],
   "source": [
    "np.bincount(y)"
   ]
  },
  {
   "cell_type": "code",
   "execution_count": 64,
   "id": "c7843f47-8ff5-4f90-ac92-af765f799203",
   "metadata": {},
   "outputs": [
    {
     "data": {
      "text/plain": [
       "0.6475972540045767"
      ]
     },
     "execution_count": 64,
     "metadata": {},
     "output_type": "execute_result"
    }
   ],
   "source": [
    "accuracy_score(test_y[lags:],y)"
   ]
  },
  {
   "cell_type": "code",
   "execution_count": 75,
   "id": "7def7431-fdec-4775-8a0c-62af0a23f9c3",
   "metadata": {},
   "outputs": [],
   "source": [
    "# deep RNNs which are rnns with multiple hidden layers\n",
    "# possible to add dropout to avoid overfitting\n",
    "\n",
    "from keras.layers import Dropout \n",
    "\n",
    "def create_deep_rnn_model(hl = 2, hu = 100,layer = 'SimpleRNN',optimizer = 'rmsprop',\n",
    "                          features = 1,dropout = False, rate = 0.3, seed = 100):\n",
    "    if hl<=2: hl = 2\n",
    "    if layer == 'SimpleRNN':\n",
    "        layer = SimpleRNN\n",
    "    else:\n",
    "        layer = LSTM\n",
    "    model = Sequential()\n",
    "    model.add(layer(hu, input_shape = (lags, features),\n",
    "                    return_sequences = True,\n",
    "                   ))\n",
    "    if dropout:\n",
    "        model.add(Dropout(rate, seed = seed))\n",
    "    for _ in range(2,hl):\n",
    "        model.add(layer(hu,return_sequences = True))\n",
    "        if dropout:\n",
    "            model.add(Dropout(rate, seed = seed))\n",
    "    model.add(layer(hu))\n",
    "    model.add(Dense(1,activation = 'sigmoid'))\n",
    "    model.compile(optimizer = optimizer, \n",
    "                 loss = 'binary_crossentropy', \n",
    "                 metrics = ['accuracy'])\n",
    "    return model\n",
    "    "
   ]
  },
  {
   "cell_type": "code",
   "execution_count": 76,
   "id": "ae327e6f-9201-46d6-be9f-5f1d9925afc8",
   "metadata": {},
   "outputs": [],
   "source": [
    "set_seeds()\n",
    "model = create_deep_rnn_model(\n",
    "    hl = 2, hu = 50, layer = 'SimpleRNN', features = len(data.columns), \n",
    "    dropout = True, rate = 0.3)\n",
    "\n"
   ]
  },
  {
   "cell_type": "code",
   "execution_count": 77,
   "id": "a63466d6-bf91-4c37-9806-4192fc466c63",
   "metadata": {},
   "outputs": [
    {
     "name": "stdout",
     "output_type": "stream",
     "text": [
      "CPU times: user 29.3 s, sys: 2.16 s, total: 31.5 s\n",
      "Wall time: 13 s\n"
     ]
    },
    {
     "data": {
      "text/plain": [
       "<keras.callbacks.callbacks.History at 0x7fbc72d38290>"
      ]
     },
     "execution_count": 77,
     "metadata": {},
     "output_type": "execute_result"
    }
   ],
   "source": [
    "%%time\n",
    "model.fit_generator(g, epochs = 200, steps_per_epoch = 10, \n",
    "                   verbose = False, class_weight = cw(train_y))"
   ]
  },
  {
   "cell_type": "code",
   "execution_count": 78,
   "id": "2fa6c05d-a85c-4e6f-a80b-60954bf48f14",
   "metadata": {},
   "outputs": [],
   "source": [
    "y = np.where(model.predict(g_, batch_size = None)>0.5, 1, 0).flatten()"
   ]
  },
  {
   "cell_type": "code",
   "execution_count": 79,
   "id": "8e0b69ae-3621-486d-ae6d-d384074527d1",
   "metadata": {},
   "outputs": [
    {
     "data": {
      "text/plain": [
       "array([475, 399])"
      ]
     },
     "execution_count": 79,
     "metadata": {},
     "output_type": "execute_result"
    }
   ],
   "source": [
    "np.bincount(y)"
   ]
  },
  {
   "cell_type": "code",
   "execution_count": 80,
   "id": "260ba537-bae1-4e23-b71d-702e86d65812",
   "metadata": {},
   "outputs": [
    {
     "data": {
      "text/plain": [
       "0.6006864988558352"
      ]
     },
     "execution_count": 80,
     "metadata": {},
     "output_type": "execute_result"
    }
   ],
   "source": [
    "accuracy_score(test_y[lags:],y)"
   ]
  },
  {
   "cell_type": "code",
   "execution_count": null,
   "id": "b453a447-1e3b-449c-a7ca-9c3b1e1cca31",
   "metadata": {},
   "outputs": [],
   "source": [
    "# timeseriesGenerator converts sequential data to a generator object that keras \n",
    "# RNN can work with\n",
    "\n",
    "\n",
    "\n"
   ]
  }
 ],
 "metadata": {
  "kernelspec": {
   "display_name": "Python 3 (ipykernel)",
   "language": "python",
   "name": "python3"
  },
  "language_info": {
   "codemirror_mode": {
    "name": "ipython",
    "version": 3
   },
   "file_extension": ".py",
   "mimetype": "text/x-python",
   "name": "python",
   "nbconvert_exporter": "python",
   "pygments_lexer": "ipython3",
   "version": "3.7.13"
  }
 },
 "nbformat": 4,
 "nbformat_minor": 5
}
