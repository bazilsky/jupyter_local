{
 "cells": [
  {
   "cell_type": "code",
   "execution_count": 1,
   "id": "31947e8d-cfc1-45f6-996e-c6e301a8a28d",
   "metadata": {},
   "outputs": [],
   "source": [
    "import numpy as np\n",
    "\n"
   ]
  },
  {
   "cell_type": "code",
   "execution_count": 2,
   "id": "e78bf758-381c-463b-84f7-8cfeca0d3f60",
   "metadata": {},
   "outputs": [],
   "source": [
    "S0 = 10\n",
    "B0 = 10\n",
    "S1 = np.array((20,5))\n",
    "B1 = np.array((11,11));"
   ]
  },
  {
   "cell_type": "code",
   "execution_count": 3,
   "id": "b216279d-60e9-4ba7-8e6d-a5520c0f1dc8",
   "metadata": {},
   "outputs": [],
   "source": [
    "M0 = np.array((S0,B0)) # model economy initial \n",
    "\n",
    "M1 = np.array((S1,B1))\n",
    "\n",
    "K = 14.5 # strike price of call option "
   ]
  },
  {
   "cell_type": "code",
   "execution_count": 4,
   "id": "308b402b-4c88-4348-ba03-7c6c232326d1",
   "metadata": {},
   "outputs": [],
   "source": [
    "C1 = np.maximum(S1 - K,0); # uncertain pay of from stock  "
   ]
  },
  {
   "cell_type": "code",
   "execution_count": 5,
   "id": "cfee0607-81de-490f-9676-e7e9f97c1754",
   "metadata": {},
   "outputs": [],
   "source": [
    "M1 = M1.T"
   ]
  },
  {
   "cell_type": "code",
   "execution_count": 6,
   "id": "25c05cdd-0342-4be9-8254-f36b2416a324",
   "metadata": {},
   "outputs": [
    {
     "data": {
      "text/plain": [
       "array([[20, 11],\n",
       "       [ 5, 11]])"
      ]
     },
     "execution_count": 6,
     "metadata": {},
     "output_type": "execute_result"
    }
   ],
   "source": [
    "M1"
   ]
  },
  {
   "cell_type": "code",
   "execution_count": 7,
   "id": "ffc9df61-df66-445c-8fe8-0ff5e087ead3",
   "metadata": {},
   "outputs": [
    {
     "data": {
      "text/plain": [
       "array([ 0.36666667, -0.16666667])"
      ]
     },
     "execution_count": 7,
     "metadata": {},
     "output_type": "execute_result"
    }
   ],
   "source": [
    "phi = np.linalg.solve(M1,C1)\n",
    "phi"
   ]
  },
  {
   "cell_type": "code",
   "execution_count": 8,
   "id": "aa85a2f8-12a1-4c6f-928a-76edc7b1441a",
   "metadata": {},
   "outputs": [],
   "source": [
    "#utility function \n",
    "\n",
    "def u(x):\n",
    "    return np.sqrt(x)\n",
    "\n",
    "phi_A = np.array((0.75,0.25)) # this is th fraction of things in the portfolio\n",
    "phi_D = np.array((0.25,0.75))\n",
    "\n"
   ]
  },
  {
   "cell_type": "code",
   "execution_count": 9,
   "id": "2d8c426a-a043-4410-b84f-34a2a84b70fe",
   "metadata": {},
   "outputs": [
    {
     "data": {
      "text/plain": [
       "True"
      ]
     },
     "execution_count": 9,
     "metadata": {},
     "output_type": "execute_result"
    }
   ],
   "source": [
    "np.dot(M0,phi_A) == np.dot(M0,phi_D)"
   ]
  },
  {
   "cell_type": "code",
   "execution_count": 10,
   "id": "5b5079ae-649c-4963-8863-7521a6933c4a",
   "metadata": {},
   "outputs": [],
   "source": [
    "A1 = np.dot(M1,phi_A)\n",
    "D1 = np.dot(M1,phi_D)\n",
    "\n",
    "P = np.array((0.5,0.5))\n",
    "\n",
    "def EUT(x):\n",
    "    return np.dot(P,u(x)) # EUT function is sigma probability times utility function\n",
    "\n",
    "\n"
   ]
  },
  {
   "cell_type": "code",
   "execution_count": 11,
   "id": "0ba71f86-48d2-456c-9fea-de74464df7b3",
   "metadata": {},
   "outputs": [
    {
     "data": {
      "text/plain": [
       "3.381292321692286"
      ]
     },
     "execution_count": 11,
     "metadata": {},
     "output_type": "execute_result"
    }
   ],
   "source": [
    "EUT(A1)"
   ]
  },
  {
   "cell_type": "code",
   "execution_count": 12,
   "id": "aaca4e61-54bb-4eb5-9830-d7a7a9247893",
   "metadata": {},
   "outputs": [
    {
     "data": {
      "text/plain": [
       "3.3611309730623735"
      ]
     },
     "execution_count": 12,
     "metadata": {},
     "output_type": "execute_result"
    }
   ],
   "source": [
    "EUT(D1)"
   ]
  },
  {
   "cell_type": "code",
   "execution_count": 13,
   "id": "99135f5e-3ea3-4695-a4ce-0a668f2f61d5",
   "metadata": {},
   "outputs": [
    {
     "data": {
      "text/plain": [
       "     fun: -3.385015999493397\n",
       "     jac: array([-1.69249132, -1.69253424])\n",
       " message: 'Optimization terminated successfully'\n",
       "    nfev: 12\n",
       "     nit: 4\n",
       "    njev: 4\n",
       "  status: 0\n",
       " success: True\n",
       "       x: array([0.61122474, 0.38877526])"
      ]
     },
     "execution_count": 13,
     "metadata": {},
     "output_type": "execute_result"
    }
   ],
   "source": [
    "# what is the best portfolio to maximise profit\n",
    "\n",
    "from scipy.optimize import minimize\n",
    "w=10\n",
    "cons = {'type':'eq','fun': lambda phi: np.dot(M0,phi) - w} # budget constraint to minimize\n",
    "\n",
    "def EUT_(phi):\n",
    "    x = np.dot(M1,phi)\n",
    "    return EUT(x)\n",
    "opt = minimize(lambda phi: -EUT_(phi),x0 = phi_A, constraints = cons) # optimize the budget constraints for w = 10 \n",
    "\n",
    "opt\n"
   ]
  },
  {
   "cell_type": "code",
   "execution_count": 14,
   "id": "12894c28-2778-46a0-ba9e-68725d3b3f5b",
   "metadata": {},
   "outputs": [],
   "source": [
    "# MVP does not require the data of company cash flow or future performance\n",
    "# needs just share price and statistics on these prices \n",
    "\n",
    "# sharpe ratio, helps judge the risk adjusted performance = expected return / expected volatility\n",
    "\n",
    "# return of Stock and Bond \n",
    "rS = S1/S0 - 1\n",
    "rB = B1/B0 - 1 \n",
    "\n",
    "def mu(rX):\n",
    "    return np.dot(P,rX)\n",
    "\n",
    "\n",
    "\n"
   ]
  },
  {
   "cell_type": "code",
   "execution_count": 15,
   "id": "f7d7ca77-7571-40e1-9b77-df260bf86f86",
   "metadata": {},
   "outputs": [
    {
     "name": "stdout",
     "output_type": "stream",
     "text": [
      "stock return 0.25\n",
      "bond return 0.10000000000000009\n"
     ]
    }
   ],
   "source": [
    "print('stock return',mu(rS))\n",
    "print('bond return',mu(rB))"
   ]
  },
  {
   "cell_type": "code",
   "execution_count": 16,
   "id": "e49d863d-e5ee-4296-8ea2-69c4cf01947f",
   "metadata": {},
   "outputs": [
    {
     "name": "stdout",
     "output_type": "stream",
     "text": [
      "[0.25 0.1 ]\n"
     ]
    }
   ],
   "source": [
    "rM = M1/M0 -1 # return matrix of traded assets \n",
    "print(mu(rM)) # expected return vector"
   ]
  },
  {
   "cell_type": "code",
   "execution_count": 17,
   "id": "52a6b330-8e18-44a4-9198-d412534b3243",
   "metadata": {},
   "outputs": [
    {
     "name": "stdout",
     "output_type": "stream",
     "text": [
      "var rS =  0.5625\n",
      "var rB =  0.0\n"
     ]
    }
   ],
   "source": [
    "# estimating the variance, volatility and covar matrix \n",
    "\n",
    "def var(rX):\n",
    "    return ((rX - mu(rX))**2).mean()\n",
    "\n",
    "print('var rS = ',var(rS))\n",
    "print('var rB = ',var(rB))\n"
   ]
  },
  {
   "cell_type": "code",
   "execution_count": 18,
   "id": "266f7f96-262f-4643-a9e4-b39e1f354156",
   "metadata": {},
   "outputs": [
    {
     "data": {
      "text/plain": [
       "array([[0.5625, 0.    ],\n",
       "       [0.    , 0.    ]])"
      ]
     },
     "execution_count": 18,
     "metadata": {},
     "output_type": "execute_result"
    }
   ],
   "source": [
    "np.cov(rM.T,aweights = P,ddof = 0)"
   ]
  },
  {
   "cell_type": "code",
   "execution_count": 19,
   "id": "bbed5bf0-5f40-4f3a-a38e-46c607c7401f",
   "metadata": {},
   "outputs": [
    {
     "data": {
      "text/plain": [
       "0.375"
      ]
     },
     "execution_count": 19,
     "metadata": {},
     "output_type": "execute_result"
    }
   ],
   "source": [
    "# volatility and expected return \n",
    "\n",
    "phi = np.array([0.5,0.5])\n",
    "\n",
    "def mu_phi(phi):\n",
    "    return np.dot(phi,mu(rM))\n",
    "\n",
    "mu_phi(phi) # expected return \n",
    "\n",
    "def var_phi(phi):\n",
    "    cv = np.cov(rM.T,aweights = P,ddof = 0)\n",
    "    return np.dot(phi,np.dot(cv,phi))\n",
    "\n",
    "var_phi(phi)\n",
    "\n",
    "def sigma_phi(phi):\n",
    "    return var_phi(phi)**0.5\n",
    "\n",
    "sigma_phi(phi)\n"
   ]
  },
  {
   "cell_type": "code",
   "execution_count": 20,
   "id": "cee251fc-0f17-4d26-9347-4bd5b9146172",
   "metadata": {},
   "outputs": [],
   "source": [
    "#investment opportunity set"
   ]
  },
  {
   "cell_type": "code",
   "execution_count": 21,
   "id": "0d3edf39-7f2c-45df-aa3e-331a15086f4d",
   "metadata": {},
   "outputs": [
    {
     "data": {
      "text/plain": [
       "Text(0, 0.5, 'Expected return')"
      ]
     },
     "execution_count": 21,
     "metadata": {},
     "output_type": "execute_result"
    },
    {
     "data": {
      "image/png": "[encoded data removed]",
      "text/plain": [
       "<Figure size 720x432 with 1 Axes>"
      ]
     },
     "metadata": {},
     "output_type": "display_data"
    }
   ],
   "source": [
    "from pylab import plt,mpl\n",
    "plt.style.use('seaborn')\n",
    "mpl.rcParams['savefig.dpi'] = 300\n",
    "mpl.rcParams['font.family'] = 'serif'\n",
    "\n",
    "phi_mcs = np.random.random((2,200)) # initialise random portfolio composition, picks a random number between 0 and 1 \n",
    "phi_mcs = (phi_mcs/phi_mcs.sum(axis = 0)).T  # normalize \n",
    "\n",
    "mcs = np.array([(sigma_phi(phi), mu_phi(phi)) for phi in phi_mcs])\n",
    "\n",
    "plt.figure(figsize = (10,6))\n",
    "plt.plot(mcs[:,0],mcs[:,1],'ro')\n",
    "plt.xlabel('Expected volatality')\n",
    "plt.ylabel('Expected return')\n"
   ]
  },
  {
   "cell_type": "code",
   "execution_count": 28,
   "id": "da50a4fa-cba7-400b-a3ae-18de270c2876",
   "metadata": {},
   "outputs": [],
   "source": [
    "import numpy as np \n",
    "\n",
    "\n",
    "P = np.ones(3)/3; # probablity vector \n",
    "\n",
    "# two risky assets S and T \n",
    "\n",
    "S1 = np.array((20,10,5))\n",
    "S0 = 10\n",
    "T0 = 10\n",
    "T1 = np.array((1,12,13))\n",
    "\n",
    "M0 = np.array((S0,T0))\n",
    "M1 = np.array((S1,T1)).T\n",
    "rM = M1/M0 - 1\n"
   ]
  },
  {
   "cell_type": "code",
   "execution_count": 29,
   "id": "6df458fe-c60d-4da2-a3da-98aafd8b346f",
   "metadata": {},
   "outputs": [],
   "source": [
    "mcs = np.array([(sigma_phi(phi), mu_phi(phi)) for phi in phi_mcs])"
   ]
  },
  {
   "cell_type": "code",
   "execution_count": 31,
   "id": "692629ae-2d18-4015-a2cb-52c08a0387c7",
   "metadata": {},
   "outputs": [
    {
     "data": {
      "text/plain": [
       "Text(0, 0.5, 'expected return')"
      ]
     },
     "execution_count": 31,
     "metadata": {},
     "output_type": "execute_result"
    },
    {
     "data": {
      "image/png": "[encoded data removed]",
      "text/plain": [
       "<Figure size 720x432 with 1 Axes>"
      ]
     },
     "metadata": {},
     "output_type": "display_data"
    }
   ],
   "source": [
    "plt.figure(figsize = (10,6))\n",
    "plt.style.use('seaborn')\n",
    "plt.plot(mcs[:,0],mcs[:,1],'ro')\n",
    "plt.xlabel('expected volatility')\n",
    "plt.ylabel('expected return')"
   ]
  },
  {
   "cell_type": "code",
   "execution_count": 32,
   "id": "66b6406c-db52-4562-82fb-dc208b18a23f",
   "metadata": {},
   "outputs": [
    {
     "data": {
      "text/plain": [
       "array([[ 1. , -0.9],\n",
       "       [ 0. ,  0.2],\n",
       "       [-0.5,  0.3]])"
      ]
     },
     "execution_count": 32,
     "metadata": {},
     "output_type": "execute_result"
    }
   ],
   "source": [
    "def sharpe(phi):\n",
    "    return mu_phi(phi)/sigma_phi(phi)\n"
   ]
  },
  {
   "cell_type": "code",
   "execution_count": null,
   "id": "33b17ffe-d9ed-4296-9810-bb8e0ab9fb80",
   "metadata": {},
   "outputs": [],
   "source": []
  }
 ],
 "metadata": {
  "kernelspec": {
   "display_name": "Python 3 (ipykernel)",
   "language": "python",
   "name": "python3"
  },
  "language_info": {
   "codemirror_mode": {
    "name": "ipython",
    "version": 3
   },
   "file_extension": ".py",
   "mimetype": "text/x-python",
   "name": "python",
   "nbconvert_exporter": "python",
   "pygments_lexer": "ipython3",
   "version": "3.7.13"
  }
 },
 "nbformat": 4,
 "nbformat_minor": 5
}
