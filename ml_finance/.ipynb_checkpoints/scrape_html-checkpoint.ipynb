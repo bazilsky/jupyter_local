{
 "cells": [
  {
   "cell_type": "code",
   "execution_count": 1,
   "id": "f99c2d8f-3dc8-404e-bbf6-b699274cbb1b",
   "metadata": {},
   "outputs": [],
   "source": [
    "import requests "
   ]
  },
  {
   "cell_type": "code",
   "execution_count": 2,
   "id": "240e2a10-8e39-4686-beb1-4af211e7ab10",
   "metadata": {},
   "outputs": [],
   "source": [
    "sources = ['https://nr.apple.com/dE0b1T5G3u']"
   ]
  },
  {
   "cell_type": "code",
   "execution_count": 3,
   "id": "c6760f6e-b746-41db-abda-2e04edb193d6",
   "metadata": {},
   "outputs": [],
   "source": [
    "html = [requests.get(url) for url in sources]"
   ]
  },
  {
   "cell_type": "code",
   "execution_count": 10,
   "id": "76a4b8b3-1225-4dc8-beba-e44bb95cbbff",
   "metadata": {},
   "outputs": [
    {
     "ename": "IndexError",
     "evalue": "list index out of range",
     "output_type": "error",
     "traceback": [
      "\u001b[0;31m---------------------------------------------------------------------------\u001b[0m",
      "\u001b[0;31mIndexError\u001b[0m                                Traceback (most recent call last)",
      "\u001b[0;32m/var/folders/m6/qj3v2qcs35d7x8gdhqzsc7280000gn/T/ipykernel_15325/1678293885.py\u001b[0m in \u001b[0;36m<module>\u001b[0;34m\u001b[0m\n\u001b[0;32m----> 1\u001b[0;31m \u001b[0mhtml\u001b[0m\u001b[0;34m[\u001b[0m\u001b[0;36m1\u001b[0m\u001b[0;34m]\u001b[0m\u001b[0;34m\u001b[0m\u001b[0;34m\u001b[0m\u001b[0m\n\u001b[0m",
      "\u001b[0;31mIndexError\u001b[0m: list index out of range"
     ]
    }
   ],
   "source": [
    "html[1] "
   ]
  },
  {
   "cell_type": "code",
   "execution_count": null,
   "id": "1d25b441-d31b-4d64-a5b0-9bd46bf43571",
   "metadata": {},
   "outputs": [],
   "source": []
  }
 ],
 "metadata": {
  "kernelspec": {
   "display_name": "Python 3 (ipykernel)",
   "language": "python",
   "name": "python3"
  },
  "language_info": {
   "codemirror_mode": {
    "name": "ipython",
    "version": 3
   },
   "file_extension": ".py",
   "mimetype": "text/x-python",
   "name": "python",
   "nbconvert_exporter": "python",
   "pygments_lexer": "ipython3",
   "version": "3.7.13"
  }
 },
 "nbformat": 4,
 "nbformat_minor": 5
}
