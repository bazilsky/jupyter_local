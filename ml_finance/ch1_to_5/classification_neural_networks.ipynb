{
 "cells": [
  {
   "cell_type": "code",
   "execution_count": 11,
   "id": "d6a92975-8beb-4f2a-ad87-91557dc537b4",
   "metadata": {},
   "outputs": [],
   "source": [
    "# using neural networks to tackle classification problems\n",
    "\n",
    "import numpy as np \n",
    "import pandas as pd\n",
    "from pylab import plt, mpl\n",
    "import tensorflow\n",
    "from sklearn.neural_network import MLPRegressor\n",
    "from keras.layers import Dense\n",
    "from keras.models import Sequential\n"
   ]
  },
  {
   "cell_type": "code",
   "execution_count": 12,
   "id": "f6541729-5191-4e1d-8466-249d90009ab5",
   "metadata": {},
   "outputs": [],
   "source": [
    "f = 5 \n",
    "n = 10 \n",
    "np.random.seed(100)\n"
   ]
  },
  {
   "cell_type": "code",
   "execution_count": 13,
   "id": "ca05005a-3add-4bfb-951f-27b45bb1c682",
   "metadata": {},
   "outputs": [],
   "source": [
    "x = np.random.randint(0,2,(n,f)) # get random array and random.seed helps fix the randomness\n",
    "y = np.random.randint(0,2,n)"
   ]
  },
  {
   "cell_type": "code",
   "execution_count": 14,
   "id": "433aa01c-79f4-43f6-ab49-511e64bb040f",
   "metadata": {},
   "outputs": [
    {
     "data": {
      "text/plain": [
       "<keras.callbacks.callbacks.History at 0x7fa46a7f5710>"
      ]
     },
     "execution_count": 14,
     "metadata": {},
     "output_type": "execute_result"
    }
   ],
   "source": [
    "model = Sequential()\n",
    "model.add(Dense(256,activation = 'relu',input_dim = f)) # input_dim refers to the 5 features that are the input\n",
    "model.add(Dense(1,activation = 'sigmoid'))\n",
    "model.compile(loss = 'binary_crossentropy',optimizer = 'rmsprop',metrics = ['acc']) # what are metrics?\n",
    "model.fit(x,y,epochs = 50, verbose = False)"
   ]
  },
  {
   "cell_type": "code",
   "execution_count": 21,
   "id": "6780ab3a-41df-4660-a186-9ad06828e53f",
   "metadata": {},
   "outputs": [],
   "source": [
    "#q=(model.predict(x).flatten )> 0.5\n",
    "y_ = np.where(model.predict(x).flatten() > 0.5,1,0)"
   ]
  },
  {
   "cell_type": "code",
   "execution_count": 35,
   "id": "f2a3615d-0f04-41ce-87c5-af05de755488",
   "metadata": {},
   "outputs": [
    {
     "data": {
      "text/plain": [
       "Text(0.5, 1.0, 'Loss function and accuracy')"
      ]
     },
     "execution_count": 35,
     "metadata": {},
     "output_type": "execute_result"
    },
    {
     "data": {
      "image/png": "[encoded data removed]",
      "text/plain": [
       "<Figure size 576x396 with 1 Axes>"
      ]
     },
     "metadata": {},
     "output_type": "display_data"
    }
   ],
   "source": [
    "residual = pd.DataFrame(model.history.history)\n",
    "plt.style.use('seaborn')\n",
    "residual.plot()\n",
    "plt.title('Loss function and accuracy',fontsize = 14)"
   ]
  },
  {
   "cell_type": "code",
   "execution_count": null,
   "id": "499fc5c1-10c2-47e8-b015-b9d81bb80073",
   "metadata": {
    "tags": []
   },
   "outputs": [],
   "source": []
  },
  {
   "cell_type": "code",
   "execution_count": null,
   "id": "45e71c82-3ca9-48c5-931d-79ab4a555f8a",
   "metadata": {
    "jupyter": {
     "source_hidden": true
    },
    "tags": []
   },
   "outputs": [],
   "source": []
  },
  {
   "cell_type": "code",
   "execution_count": 36,
   "id": "74723cf2-0e1d-4264-9e42-397e708e54cb",
   "metadata": {
    "jupyter": {
     "source_hidden": true
    },
    "tags": []
   },
   "outputs": [],
   "source": []
  },
  {
   "cell_type": "code",
   "execution_count": null,
   "id": "097005be-3572-44e0-ae21-441e7e3cc03b",
   "metadata": {
    "jupyter": {
     "source_hidden": true
    },
    "tags": []
   },
   "outputs": [],
   "source": []
  },
  {
   "cell_type": "code",
   "execution_count": 37,
   "id": "4476865d-8943-4b48-b050-b271fca995fc",
   "metadata": {
    "jupyter": {
     "source_hidden": true
    },
    "tags": []
   },
   "outputs": [],
   "source": [
    "# revisit why rectilinear activation layers are succeded by a linear activation level. "
   ]
  },
  {
   "cell_type": "code",
   "execution_count": null,
   "id": "427d48f9-ae17-45fa-a6dd-c7dade0afd17",
   "metadata": {
    "jupyter": {
     "source_hidden": true
    },
    "tags": []
   },
   "outputs": [],
   "source": []
  },
  {
   "cell_type": "code",
   "execution_count": null,
   "id": "b7287496-7553-40b5-b0db-aaa2ec28fada",
   "metadata": {
    "jupyter": {
     "source_hidden": true
    },
    "tags": []
   },
   "outputs": [],
   "source": []
  }
 ],
 "metadata": {
  "kernelspec": {
   "display_name": "Python 3 (ipykernel)",
   "language": "python",
   "name": "python3"
  },
  "language_info": {
   "codemirror_mode": {
    "name": "ipython",
    "version": 3
   },
   "file_extension": ".py",
   "mimetype": "text/x-python",
   "name": "python",
   "nbconvert_exporter": "python",
   "pygments_lexer": "ipython3",
   "version": "3.7.13"
  }
 },
 "nbformat": 4,
 "nbformat_minor": 5
}
