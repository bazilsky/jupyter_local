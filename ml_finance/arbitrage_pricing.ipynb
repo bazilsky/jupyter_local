{
 "cells": [
  {
   "cell_type": "code",
   "execution_count": 2,
   "id": "31947e8d-cfc1-45f6-996e-c6e301a8a28d",
   "metadata": {},
   "outputs": [],
   "source": [
    "import numpy as np\n",
    "\n"
   ]
  },
  {
   "cell_type": "code",
   "execution_count": 12,
   "id": "e78bf758-381c-463b-84f7-8cfeca0d3f60",
   "metadata": {},
   "outputs": [],
   "source": [
    "S0 = 10\n",
    "B0 = 10\n",
    "S1 = np.array((20,5))\n",
    "B1 = np.array((11,11));"
   ]
  },
  {
   "cell_type": "code",
   "execution_count": 15,
   "id": "b216279d-60e9-4ba7-8e6d-a5520c0f1dc8",
   "metadata": {},
   "outputs": [],
   "source": [
    "M0 = np.array((S0,B0)) # model economy initial \n",
    "\n",
    "M1 = np.array((S1,B1))\n",
    "\n",
    "K = 14.5 # strike price of call option "
   ]
  },
  {
   "cell_type": "code",
   "execution_count": 19,
   "id": "308b402b-4c88-4348-ba03-7c6c232326d1",
   "metadata": {},
   "outputs": [],
   "source": [
    "C1 = np.maximum(S1 - K,0); # uncertain pay of from stock  "
   ]
  },
  {
   "cell_type": "code",
   "execution_count": 21,
   "id": "cfee0607-81de-490f-9676-e7e9f97c1754",
   "metadata": {},
   "outputs": [],
   "source": [
    "M1 = M1.T"
   ]
  },
  {
   "cell_type": "code",
   "execution_count": 22,
   "id": "25c05cdd-0342-4be9-8254-f36b2416a324",
   "metadata": {},
   "outputs": [
    {
     "data": {
      "text/plain": [
       "array([[20, 11],\n",
       "       [ 5, 11]])"
      ]
     },
     "execution_count": 22,
     "metadata": {},
     "output_type": "execute_result"
    }
   ],
   "source": [
    "M1"
   ]
  },
  {
   "cell_type": "code",
   "execution_count": 26,
   "id": "ffc9df61-df66-445c-8fe8-0ff5e087ead3",
   "metadata": {},
   "outputs": [
    {
     "data": {
      "text/plain": [
       "array([ 0.36666667, -0.16666667])"
      ]
     },
     "execution_count": 26,
     "metadata": {},
     "output_type": "execute_result"
    }
   ],
   "source": [
    "phi = np.linalg.solve(M1,C1)\n",
    "phi"
   ]
  },
  {
   "cell_type": "code",
   "execution_count": 25,
   "id": "aa85a2f8-12a1-4c6f-928a-76edc7b1441a",
   "metadata": {},
   "outputs": [
    {
     "data": {
      "text/plain": [
       "array([ 0.36666667, -0.16666667])"
      ]
     },
     "execution_count": 25,
     "metadata": {},
     "output_type": "execute_result"
    }
   ],
   "source": []
  },
  {
   "cell_type": "code",
   "execution_count": null,
   "id": "2d8c426a-a043-4410-b84f-34a2a84b70fe",
   "metadata": {},
   "outputs": [],
   "source": []
  }
 ],
 "metadata": {
  "kernelspec": {
   "display_name": "Python 3 (ipykernel)",
   "language": "python",
   "name": "python3"
  },
  "language_info": {
   "codemirror_mode": {
    "name": "ipython",
    "version": 3
   },
   "file_extension": ".py",
   "mimetype": "text/x-python",
   "name": "python",
   "nbconvert_exporter": "python",
   "pygments_lexer": "ipython3",
   "version": "3.7.13"
  }
 },
 "nbformat": 4,
 "nbformat_minor": 5
}
