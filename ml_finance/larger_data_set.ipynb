{
 "cells": [
  {
   "cell_type": "code",
   "execution_count": 2,
   "id": "d6a92975-8beb-4f2a-ad87-91557dc537b4",
   "metadata": {},
   "outputs": [
    {
     "name": "stderr",
     "output_type": "stream",
     "text": [
      "Using TensorFlow backend.\n"
     ]
    }
   ],
   "source": [
    "# using neural networks to tackle classification problems\n",
    "\n",
    "import numpy as np \n",
    "import pandas as pd\n",
    "from pylab import plt, mpl\n",
    "import tensorflow\n",
    "from sklearn.neural_network import MLPRegressor\n",
    "from keras.layers import Dense\n",
    "from keras.models import Sequential\n"
   ]
  },
  {
   "cell_type": "code",
   "execution_count": 3,
   "id": "f6541729-5191-4e1d-8466-249d90009ab5",
   "metadata": {},
   "outputs": [],
   "source": [
    "f = 10\n",
    "n = 250 * 50\n",
    "np.random.seed(100)\n"
   ]
  },
  {
   "cell_type": "code",
   "execution_count": 4,
   "id": "ca05005a-3add-4bfb-951f-27b45bb1c682",
   "metadata": {},
   "outputs": [],
   "source": [
    "x = np.random.randint(0,2,(n,f)) # get random array and random.seed helps fix the randomness\n",
    "y = np.random.randint(0,2,n)"
   ]
  },
  {
   "cell_type": "code",
   "execution_count": 5,
   "id": "433aa01c-79f4-43f6-ab49-511e64bb040f",
   "metadata": {},
   "outputs": [
    {
     "data": {
      "text/html": [
       "<div>\n",
       "<style scoped>\n",
       "    .dataframe tbody tr th:only-of-type {\n",
       "        vertical-align: middle;\n",
       "    }\n",
       "\n",
       "    .dataframe tbody tr th {\n",
       "        vertical-align: top;\n",
       "    }\n",
       "\n",
       "    .dataframe thead th {\n",
       "        text-align: right;\n",
       "    }\n",
       "</style>\n",
       "<table border=\"1\" class=\"dataframe\">\n",
       "  <thead>\n",
       "    <tr style=\"text-align: right;\">\n",
       "      <th></th>\n",
       "      <th>f0</th>\n",
       "      <th>f1</th>\n",
       "      <th>f2</th>\n",
       "      <th>f3</th>\n",
       "      <th>f4</th>\n",
       "      <th>f5</th>\n",
       "      <th>f6</th>\n",
       "      <th>f7</th>\n",
       "      <th>f8</th>\n",
       "      <th>f9</th>\n",
       "    </tr>\n",
       "  </thead>\n",
       "  <tbody>\n",
       "    <tr>\n",
       "      <th>0</th>\n",
       "      <td>0</td>\n",
       "      <td>0</td>\n",
       "      <td>1</td>\n",
       "      <td>1</td>\n",
       "      <td>1</td>\n",
       "      <td>1</td>\n",
       "      <td>0</td>\n",
       "      <td>0</td>\n",
       "      <td>0</td>\n",
       "      <td>0</td>\n",
       "    </tr>\n",
       "    <tr>\n",
       "      <th>1</th>\n",
       "      <td>0</td>\n",
       "      <td>1</td>\n",
       "      <td>0</td>\n",
       "      <td>0</td>\n",
       "      <td>0</td>\n",
       "      <td>0</td>\n",
       "      <td>1</td>\n",
       "      <td>0</td>\n",
       "      <td>0</td>\n",
       "      <td>1</td>\n",
       "    </tr>\n",
       "    <tr>\n",
       "      <th>2</th>\n",
       "      <td>0</td>\n",
       "      <td>1</td>\n",
       "      <td>0</td>\n",
       "      <td>0</td>\n",
       "      <td>0</td>\n",
       "      <td>1</td>\n",
       "      <td>1</td>\n",
       "      <td>1</td>\n",
       "      <td>0</td>\n",
       "      <td>0</td>\n",
       "    </tr>\n",
       "    <tr>\n",
       "      <th>3</th>\n",
       "      <td>1</td>\n",
       "      <td>0</td>\n",
       "      <td>0</td>\n",
       "      <td>1</td>\n",
       "      <td>1</td>\n",
       "      <td>1</td>\n",
       "      <td>1</td>\n",
       "      <td>1</td>\n",
       "      <td>0</td>\n",
       "      <td>0</td>\n",
       "    </tr>\n",
       "    <tr>\n",
       "      <th>4</th>\n",
       "      <td>1</td>\n",
       "      <td>1</td>\n",
       "      <td>1</td>\n",
       "      <td>1</td>\n",
       "      <td>1</td>\n",
       "      <td>1</td>\n",
       "      <td>1</td>\n",
       "      <td>1</td>\n",
       "      <td>0</td>\n",
       "      <td>1</td>\n",
       "    </tr>\n",
       "    <tr>\n",
       "      <th>...</th>\n",
       "      <td>...</td>\n",
       "      <td>...</td>\n",
       "      <td>...</td>\n",
       "      <td>...</td>\n",
       "      <td>...</td>\n",
       "      <td>...</td>\n",
       "      <td>...</td>\n",
       "      <td>...</td>\n",
       "      <td>...</td>\n",
       "      <td>...</td>\n",
       "    </tr>\n",
       "    <tr>\n",
       "      <th>12495</th>\n",
       "      <td>1</td>\n",
       "      <td>1</td>\n",
       "      <td>1</td>\n",
       "      <td>1</td>\n",
       "      <td>0</td>\n",
       "      <td>0</td>\n",
       "      <td>1</td>\n",
       "      <td>1</td>\n",
       "      <td>0</td>\n",
       "      <td>0</td>\n",
       "    </tr>\n",
       "    <tr>\n",
       "      <th>12496</th>\n",
       "      <td>0</td>\n",
       "      <td>1</td>\n",
       "      <td>1</td>\n",
       "      <td>0</td>\n",
       "      <td>1</td>\n",
       "      <td>0</td>\n",
       "      <td>1</td>\n",
       "      <td>1</td>\n",
       "      <td>0</td>\n",
       "      <td>1</td>\n",
       "    </tr>\n",
       "    <tr>\n",
       "      <th>12497</th>\n",
       "      <td>1</td>\n",
       "      <td>1</td>\n",
       "      <td>0</td>\n",
       "      <td>0</td>\n",
       "      <td>1</td>\n",
       "      <td>0</td>\n",
       "      <td>0</td>\n",
       "      <td>0</td>\n",
       "      <td>0</td>\n",
       "      <td>1</td>\n",
       "    </tr>\n",
       "    <tr>\n",
       "      <th>12498</th>\n",
       "      <td>0</td>\n",
       "      <td>0</td>\n",
       "      <td>1</td>\n",
       "      <td>1</td>\n",
       "      <td>1</td>\n",
       "      <td>1</td>\n",
       "      <td>0</td>\n",
       "      <td>0</td>\n",
       "      <td>1</td>\n",
       "      <td>1</td>\n",
       "    </tr>\n",
       "    <tr>\n",
       "      <th>12499</th>\n",
       "      <td>0</td>\n",
       "      <td>1</td>\n",
       "      <td>0</td>\n",
       "      <td>0</td>\n",
       "      <td>0</td>\n",
       "      <td>0</td>\n",
       "      <td>0</td>\n",
       "      <td>1</td>\n",
       "      <td>1</td>\n",
       "      <td>0</td>\n",
       "    </tr>\n",
       "  </tbody>\n",
       "</table>\n",
       "<p>12500 rows × 10 columns</p>\n",
       "</div>"
      ],
      "text/plain": [
       "       f0  f1  f2  f3  f4  f5  f6  f7  f8  f9\n",
       "0       0   0   1   1   1   1   0   0   0   0\n",
       "1       0   1   0   0   0   0   1   0   0   1\n",
       "2       0   1   0   0   0   1   1   1   0   0\n",
       "3       1   0   0   1   1   1   1   1   0   0\n",
       "4       1   1   1   1   1   1   1   1   0   1\n",
       "...    ..  ..  ..  ..  ..  ..  ..  ..  ..  ..\n",
       "12495   1   1   1   1   0   0   1   1   0   0\n",
       "12496   0   1   1   0   1   0   1   1   0   1\n",
       "12497   1   1   0   0   1   0   0   0   0   1\n",
       "12498   0   0   1   1   1   1   0   0   1   1\n",
       "12499   0   1   0   0   0   0   0   1   1   0\n",
       "\n",
       "[12500 rows x 10 columns]"
      ]
     },
     "execution_count": 5,
     "metadata": {},
     "output_type": "execute_result"
    }
   ],
   "source": [
    "fcols = [f'f{_}' for _ in range(f)]\n",
    "fcols\n",
    "data = pd.DataFrame(x,columns = fcols) # putting all the data into a pandas dataframe \n",
    "data"
   ]
  },
  {
   "cell_type": "code",
   "execution_count": 6,
   "id": "6780ab3a-41df-4660-a186-9ad06828e53f",
   "metadata": {},
   "outputs": [
    {
     "name": "stdout",
     "output_type": "stream",
     "text": [
      "<class 'pandas.core.frame.DataFrame'>\n",
      "RangeIndex: 12500 entries, 0 to 12499\n",
      "Data columns (total 11 columns):\n",
      " #   Column  Non-Null Count  Dtype\n",
      "---  ------  --------------  -----\n",
      " 0   f0      12500 non-null  int64\n",
      " 1   f1      12500 non-null  int64\n",
      " 2   f2      12500 non-null  int64\n",
      " 3   f3      12500 non-null  int64\n",
      " 4   f4      12500 non-null  int64\n",
      " 5   f5      12500 non-null  int64\n",
      " 6   f6      12500 non-null  int64\n",
      " 7   f7      12500 non-null  int64\n",
      " 8   f8      12500 non-null  int64\n",
      " 9   f9      12500 non-null  int64\n",
      " 10  l       12500 non-null  int64\n",
      "dtypes: int64(11)\n",
      "memory usage: 1.0 MB\n"
     ]
    }
   ],
   "source": [
    "data['l'] = y #insert datat into the last column of the pandas data frame\n",
    "\n",
    "data.info()"
   ]
  },
  {
   "cell_type": "code",
   "execution_count": 7,
   "id": "f2a3615d-0f04-41ce-87c5-af05de755488",
   "metadata": {},
   "outputs": [],
   "source": [
    "grouped = data.groupby(list(data.columns))\n",
    "freq = grouped['l'].size().unstack(fill_value = 0)\n",
    "freq['sum'] = freq[0]+freq[1]"
   ]
  },
  {
   "cell_type": "code",
   "execution_count": 8,
   "id": "499fc5c1-10c2-47e8-b015-b9d81bb80073",
   "metadata": {
    "tags": []
   },
   "outputs": [
    {
     "data": {
      "text/plain": [
       "MLPClassifier(hidden_layer_sizes=[128, 128, 128], max_iter=1000,\n",
       "              random_state=100)"
      ]
     },
     "execution_count": 8,
     "metadata": {},
     "output_type": "execute_result"
    }
   ],
   "source": [
    "from sklearn.neural_network import MLPClassifier\n",
    "from sklearn.metrics import accuracy_score\n",
    "\n",
    "model = MLPClassifier(hidden_layer_sizes = [128,128,128],max_iter = 1000,random_state = 100)\n",
    "model.fit(data[fcols],data['l'])"
   ]
  },
  {
   "cell_type": "code",
   "execution_count": 14,
   "id": "45e71c82-3ca9-48c5-931d-79ab4a555f8a",
   "metadata": {
    "tags": []
   },
   "outputs": [
    {
     "data": {
      "text/plain": [
       "0.59192"
      ]
     },
     "execution_count": 14,
     "metadata": {},
     "output_type": "execute_result"
    }
   ],
   "source": [
    "accuracy_score(data['l'],model.predict(data[fcols])) # calculate accuracy score of MLP model\n"
   ]
  },
  {
   "cell_type": "code",
   "execution_count": 17,
   "id": "74723cf2-0e1d-4264-9e42-397e708e54cb",
   "metadata": {
    "tags": []
   },
   "outputs": [
    {
     "data": {
      "text/plain": [
       "0.6296"
      ]
     },
     "execution_count": 17,
     "metadata": {},
     "output_type": "execute_result"
    }
   ],
   "source": [
    "# test how accurate the data is on a test dataset \n",
    "\n",
    "split = int(len(data)*0.7)\n",
    "\n",
    "train = data[:split]\n",
    "test  = data[split:]\n",
    "\n",
    "model.fit(train[fcols],train['l'])\n",
    "accuracy_score(train['l'],model.predict(train[fcols]))  # accuracy score on training dataset "
   ]
  },
  {
   "cell_type": "code",
   "execution_count": 16,
   "id": "097005be-3572-44e0-ae21-441e7e3cc03b",
   "metadata": {
    "tags": []
   },
   "outputs": [
    {
     "data": {
      "text/plain": [
       "0.504"
      ]
     },
     "execution_count": 16,
     "metadata": {},
     "output_type": "execute_result"
    }
   ],
   "source": [
    "accuracy_score(test['l'],model.predict(test[fcols])) # on test data set "
   ]
  },
  {
   "cell_type": "code",
   "execution_count": null,
   "id": "2ab75f0e-f61d-4395-b8b6-683a2ed1c9d9",
   "metadata": {},
   "outputs": [],
   "source": []
  },
  {
   "cell_type": "code",
   "execution_count": 37,
   "id": "4476865d-8943-4b48-b050-b271fca995fc",
   "metadata": {
    "tags": []
   },
   "outputs": [],
   "source": []
  },
  {
   "cell_type": "code",
   "execution_count": null,
   "id": "427d48f9-ae17-45fa-a6dd-c7dade0afd17",
   "metadata": {
    "jupyter": {
     "source_hidden": true
    },
    "tags": []
   },
   "outputs": [],
   "source": []
  },
  {
   "cell_type": "code",
   "execution_count": null,
   "id": "b7287496-7553-40b5-b0db-aaa2ec28fada",
   "metadata": {
    "jupyter": {
     "source_hidden": true
    },
    "tags": []
   },
   "outputs": [],
   "source": []
  }
 ],
 "metadata": {
  "kernelspec": {
   "display_name": "Python 3 (ipykernel)",
   "language": "python",
   "name": "python3"
  },
  "language_info": {
   "codemirror_mode": {
    "name": "ipython",
    "version": 3
   },
   "file_extension": ".py",
   "mimetype": "text/x-python",
   "name": "python",
   "nbconvert_exporter": "python",
   "pygments_lexer": "ipython3",
   "version": "3.7.13"
  }
 },
 "nbformat": 4,
 "nbformat_minor": 5
}
