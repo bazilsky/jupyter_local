{
 "cells": [
  {
   "cell_type": "code",
   "execution_count": 14,
   "id": "e6c1e654-f743-46e0-9737-57f27f314595",
   "metadata": {},
   "outputs": [],
   "source": [
    "import xarray as xr\n",
    "import iris\n",
    "import numpy as np \n",
    "import pylab as plt\n",
    "from tensorflow.keras.models import Sequential\n",
    "from tensorflow.keras.layers import Dense"
   ]
  },
  {
   "cell_type": "code",
   "execution_count": 15,
   "id": "0b1fc0fc-c725-4394-8fb9-414da8a499ac",
   "metadata": {},
   "outputs": [],
   "source": [
    "\n",
    "'''\n",
    "\n",
    "Aim: To build a multifidelity ML model to predict high-resolution gridded\n",
    "\tsurface temperature climate simulation out from contemporaneous \n",
    "\tcoarse-resolution climate simulation output\n",
    "\n",
    "hi  = high fidelity data\n",
    "lo  = low fidelity data\n",
    "\n",
    "t2m  = temperature at 2 meters above the ground\n",
    "u10, v10 = wind components (eastward, northward) at 10m above the ground\n",
    "\n",
    "lat = latitude\n",
    "lon = longitude\n",
    "\n",
    "'''\n",
    "\n",
    "\n",
    "### Regional gridded output from a Regional Climate Model (RCM)\n",
    "hi_t2   = xr.open_dataset('data/hifid_t2m_monthly.nc')\n",
    "hi_lats = hi_t2['latitude'].values\n",
    "hi_lons = hi_t2['longitude'].values \n",
    "\n",
    "### Global gridded reanalysis (data assimilated) used to update/force the \n",
    "### lateral boundaries of the RCM\n",
    "lo_t2  = xr.open_dataset('data/lofid_t2m_monthly.nc')\n",
    "lo_u10 = xr.open_dataset('data/lofid_u10_monthly.nc')\n",
    "lo_v10 = xr.open_dataset('data/lofid_v10_monthly.nc')\n",
    "\n",
    "### work with numpy arrays\n",
    "hi_t2_arr  = hi_t2['t2m'].values\n",
    "lo_t2_arr  = lo_t2['t2m'].values \n",
    "lo_u10_arr = lo_u10['u10'].values\n",
    "lo_v10_arr = lo_v10['v10'].values\n",
    "time_dim   = lo_t2['time'].values \n",
    "\n"
   ]
  },
  {
   "cell_type": "code",
   "execution_count": 5,
   "id": "b329fc9b-bf0c-4c60-bdf1-20a79ab7ea40",
   "metadata": {},
   "outputs": [],
   "source": [
    "def downscale_temperature(low_res_data, high_res_shape):\n",
    "    # Reshape the low-resolution data\n",
    "    low_res_data = low_res_data.reshape(low_res_data.shape[0], low_res_data.shape[1] * low_res_data.shape[2])\n",
    "    \n",
    "    # Define the model architecture\n",
    "    model = Sequential()\n",
    "    model.add(Dense(64, activation='relu', input_shape=(low_res_data.shape[1],)))\n",
    "    model.add(Dense(64, activation='relu'))\n",
    "    model.add(Dense(high_res_shape[1] * high_res_shape[2], activation='linear')) # output layer\n",
    "    \n",
    "    # Compile the model\n",
    "    model.compile(optimizer='adam', loss='mean_squared_error')\n",
    "    \n",
    "    # Train the model\n",
    "    model.fit(low_res_data, low_res_data, epochs=10)\n",
    "    \n",
    "    # Use the model to generate high-resolution temperature data\n",
    "    high_res_data = model.predict(low_res_data)\n",
    "    \n",
    "    # Reshape the high-resolution data to the desired shape\n",
    "    high_res_data = high_res_data.reshape(high_res_shape)\n",
    "    \n",
    "    return high_res_data"
   ]
  },
  {
   "cell_type": "code",
   "execution_count": 9,
   "id": "21f46b60-b415-43bf-bf4d-c092a653ae82",
   "metadata": {},
   "outputs": [
    {
     "name": "stdout",
     "output_type": "stream",
     "text": [
      "(468, 54, 52)\n"
     ]
    },
    {
     "data": {
      "text/plain": [
       "(468, 2808)"
      ]
     },
     "execution_count": 9,
     "metadata": {},
     "output_type": "execute_result"
    }
   ],
   "source": [
    "print(lo_t2_arr.shape)\n",
    "x = lo_t2_arr.reshape(lo_t2_arr.shape[0],lo_t2_arr.shape[1]*lo_t2_arr.shape[2])\n",
    "x.shape"
   ]
  },
  {
   "cell_type": "code",
   "execution_count": 17,
   "id": "ca59c0c7-9e15-4bab-87ba-637198f736c3",
   "metadata": {},
   "outputs": [
    {
     "data": {
      "text/plain": [
       "array([[[ 1.37783439,  0.46208143, -0.46870421],\n",
       "        [-0.38954503, -0.24992559,  0.94300567],\n",
       "        [ 0.19851323,  0.82902809, -1.33960528]],\n",
       "\n",
       "       [[-1.10016206, -0.16422231, -1.19520635],\n",
       "        [-0.24979381,  0.78237043, -0.29071069],\n",
       "        [-0.73365899,  0.08243652, -1.01530768]],\n",
       "\n",
       "       [[ 0.2005561 , -0.09065383, -2.19386687],\n",
       "        [ 0.92457954, -0.46785781, -0.1022121 ],\n",
       "        [-0.64942146, -0.1043741 , -1.37738609]]])"
      ]
     },
     "execution_count": 17,
     "metadata": {},
     "output_type": "execute_result"
    }
   ],
   "source": [
    "np.random.randn(3,3,3)"
   ]
  },
  {
   "cell_type": "code",
   "execution_count": null,
   "id": "4d75a80c-a335-4665-8ef9-9b0b55d07ae4",
   "metadata": {},
   "outputs": [],
   "source": []
  }
 ],
 "metadata": {
  "kernelspec": {
   "display_name": "Python 3 (ipykernel)",
   "language": "python",
   "name": "python3"
  },
  "language_info": {
   "codemirror_mode": {
    "name": "ipython",
    "version": 3
   },
   "file_extension": ".py",
   "mimetype": "text/x-python",
   "name": "python",
   "nbconvert_exporter": "python",
   "pygments_lexer": "ipython3",
   "version": "3.7.13"
  }
 },
 "nbformat": 4,
 "nbformat_minor": 5
}
