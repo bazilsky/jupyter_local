{
 "cells": [
  {
   "cell_type": "code",
   "execution_count": 18,
   "id": "1bef67a3-3f2c-4939-9fae-4dfe470043a2",
   "metadata": {},
   "outputs": [],
   "source": [
    "import numpy as np\n",
    "import iris\n",
    "import time\n",
    "\n",
    "def haversine_distance(lat1, lon1, lat2, lon2):\n",
    "    # Convert latitude and longitude from degrees to radians\n",
    "    lat1, lon1, lat2, lon2 = np.radians([lat1, lon1, lat2, lon2])\n",
    "    \n",
    "    # Compute the difference between the latitudes and longitudes\n",
    "    dlat = lat2 - lat1\n",
    "    dlon = lon2 - lon1\n",
    "    \n",
    "    # Use the Haversine formula to compute the distance\n",
    "    a = np.sin(dlat/2)**2 + np.cos(lat1) * np.cos(lat2) * np.sin(dlon/2)**2\n",
    "    c = 2 * np.arcsin(np.sqrt(a))\n",
    "    \n",
    "    # The Earth's radius, in kilometers\n",
    "    R = 6371\n",
    "    \n",
    "    # Return the distance, in kilometers\n",
    "    return c * R\n",
    "\n",
    "\n",
    "snow_depth = iris.load('snow_depth_1.nc')[0].data\n",
    "lat = iris.load('latitude.nc')[0].data\n",
    "lon = iris.load('longitude.nc')[0].data\n",
    "\n",
    "\n",
    "#tomcat lat and lon\n",
    "\n",
    "tomcat_lat = np.array([87.86, 85.10, 82.31, 79.53, 76.74,\n",
    "        73.95, 71.16, 68.37, 65.58, 62.79,\n",
    "        60.00, 57.21, 54.42, 51.63, 48.84,\n",
    "        46.04, 43.25, 40.46, 37.67, 34.88,\n",
    "        32.09, 29.30, 26.51, 23.72, 20.93,\n",
    "        18.14, 15.35, 12.56,  9.77,  6.98,\n",
    "         4.19,  1.40, -1.40, -4.19, -6.98,\n",
    "        -9.77,-12.56,-15.35,-18.14,-20.93,\n",
    "       -23.72,-26.51,-29.30,-32.09,-34.88,\n",
    "       -37.67,-40.46,-43.25,-46.04,-48.84,\n",
    "       -51.63,-54.42,-57.21,-60.00,-62.79,\n",
    "       -65.58,-68.37,-71.16,-73.95,-76.74,\n",
    "       -79.53,-82.31,-85.10,-87.86])\n",
    "\n",
    "tomcat_lon_360 = np.arange(0,360,2.8125)\n",
    "\n",
    "tomcat_lon = []\n",
    "new_lon = 0\n",
    "\n",
    "for i in range(len(tomcat_lon_360)):\n",
    "    if tomcat_lon_360[i] > 180:\n",
    "        new_lon = tomcat_lon_360[i]-360\n",
    "    else:\n",
    "        new_lon = tomcat_lon_360[i]\n",
    "    tomcat_lon = np.append(tomcat_lon,new_lon)\n",
    "\n",
    "tomcat_lon = np.sort(tomcat_lon)\n",
    "\n"
   ]
  },
  {
   "cell_type": "code",
   "execution_count": 2,
   "id": "94cd29bc-9425-4a2a-a5a7-96f6a42bd992",
   "metadata": {},
   "outputs": [
    {
     "data": {
      "text/plain": [
       "130321"
      ]
     },
     "execution_count": 2,
     "metadata": {},
     "output_type": "execute_result"
    }
   ],
   "source": [
    "361*361"
   ]
  },
  {
   "cell_type": "code",
   "execution_count": 19,
   "id": "09aeba94-5599-4087-9f77-9103ea313e91",
   "metadata": {},
   "outputs": [],
   "source": [
    "def find_NN(point1):\n",
    "    dist = np.zeros((361,361))\n",
    "    for i in range(361):\n",
    "        for j in range(0,361):\n",
    "            point2 = (lat[i,j],lon[i,j])\n",
    "            dist[i,j] = haversine_distance(point1[0],point1[1],point2[0],point2[1])\n",
    "    min_index = np.argmin(dist)       \n",
    "    # i and j values where distance is minimum\n",
    "    row = min_index // dist.shape[1]\n",
    "    col = min_index % dist.shape[1]\n",
    "    return row, col\n",
    "\n",
    "\n",
    "        \n",
    "        \n",
    "        \n",
    "    "
   ]
  },
  {
   "cell_type": "code",
   "execution_count": 21,
   "id": "91e4bbcd-6807-48fa-9261-df086b42a0c7",
   "metadata": {},
   "outputs": [
    {
     "name": "stdout",
     "output_type": "stream",
     "text": [
      "non zero value 0 0\n",
      "non zero value 0 1\n",
      "non zero value 1 0\n",
      "non zero value 1 1\n",
      "Total time for main loop =  6.696815013885498\n"
     ]
    }
   ],
   "source": [
    "tomcat_snow_depth = np.zeros((12,len(tomcat_lat),len(tomcat_lon)))\n",
    "\n",
    "\n",
    "time1 = time.time()\n",
    "#for i in range(2):\n",
    "#    for j in range(2):\n",
    "for i in range(len(tomcat_lat)):\n",
    "    for j in range(len(tomcat_lon)):\n",
    "        point1 = (tomcat_lat[i], tomcat_lon[j])\n",
    "        row, col = find_NN(point1)\n",
    "        tomcat_snow_depth[:,i,j] = snow_depth[:,row,col]\n",
    "        if snow_depth[0,row,col] != 0:\n",
    "            print('non zero value', i, j)\n",
    "\n",
    "time2 = time.time()\n",
    "\n",
    "print('Total time for main loop = ', time2 - time1)\n",
    "\n",
    "\n",
    "        "
   ]
  },
  {
   "cell_type": "code",
   "execution_count": 23,
   "id": "63fe7f72-a8d9-4339-90cd-c694466807ed",
   "metadata": {},
   "outputs": [
    {
     "data": {
      "text/plain": [
       "((64,), (128,))"
      ]
     },
     "execution_count": 23,
     "metadata": {},
     "output_type": "execute_result"
    }
   ],
   "source": [
    "tomcat_lat.shape, tomcat_lon.shape"
   ]
  },
  {
   "cell_type": "code",
   "execution_count": 6,
   "id": "4acf21be-4871-4045-9531-39901f17a8f1",
   "metadata": {},
   "outputs": [],
   "source": [
    "row = min_index // dist.shape[1]\n",
    "col = min_index % dist.shape[1]"
   ]
  },
  {
   "cell_type": "code",
   "execution_count": 25,
   "id": "5dfca583-de3a-4aaa-9c02-c3318be5b2ac",
   "metadata": {},
   "outputs": [
    {
     "data": {
      "text/plain": [
       "3.8115555555555556"
      ]
     },
     "execution_count": 25,
     "metadata": {},
     "output_type": "execute_result"
    }
   ],
   "source": [
    "64*128*6.7/4/3600"
   ]
  },
  {
   "cell_type": "code",
   "execution_count": 8,
   "id": "a9f74173-aa43-4478-8477-b3e788fcf76f",
   "metadata": {},
   "outputs": [
    {
     "data": {
      "text/plain": [
       "180"
      ]
     },
     "execution_count": 8,
     "metadata": {},
     "output_type": "execute_result"
    }
   ],
   "source": [
    "col"
   ]
  },
  {
   "cell_type": "code",
   "execution_count": 9,
   "id": "0893bb50-f276-4c98-8ea8-fef037d7e040",
   "metadata": {},
   "outputs": [
    {
     "data": {
      "text/plain": [
       "1"
      ]
     },
     "execution_count": 9,
     "metadata": {},
     "output_type": "execute_result"
    }
   ],
   "source": [
    "10 // 6"
   ]
  },
  {
   "cell_type": "code",
   "execution_count": null,
   "id": "e993860c-d714-45b4-a16f-6c93ff0038f2",
   "metadata": {},
   "outputs": [],
   "source": []
  }
 ],
 "metadata": {
  "kernelspec": {
   "display_name": "Python 3 (ipykernel)",
   "language": "python",
   "name": "python3"
  },
  "language_info": {
   "codemirror_mode": {
    "name": "ipython",
    "version": 3
   },
   "file_extension": ".py",
   "mimetype": "text/x-python",
   "name": "python",
   "nbconvert_exporter": "python",
   "pygments_lexer": "ipython3",
   "version": "3.7.13"
  }
 },
 "nbformat": 4,
 "nbformat_minor": 5
}
