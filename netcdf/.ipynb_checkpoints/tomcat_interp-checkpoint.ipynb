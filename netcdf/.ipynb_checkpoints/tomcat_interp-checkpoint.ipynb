{
 "cells": [
  {
   "cell_type": "code",
   "execution_count": 19,
   "id": "00c5f8e2-7a09-40a2-8825-6a5655181c42",
   "metadata": {},
   "outputs": [],
   "source": [
    "#interpolate snow depth and get it onto the tomcat grid\n",
    "import iris\n",
    "import numpy as np \n",
    "import geopy.distance as gd\n",
    "\n",
    "snow_depth = iris.load('snow_depth_1.nc')\n",
    "lat = iris.load('latitude.nc')[0].data\n",
    "lon = iris.load('longitude.nc')[0].data\n",
    "\n",
    "#tomcat lat and lon\n",
    "\n",
    "tomcat_lat = [87.86, 85.10, 82.31, 79.53, 76.74,\n",
    "        73.95, 71.16, 68.37, 65.58, 62.79,\n",
    "        60.00, 57.21, 54.42, 51.63, 48.84,\n",
    "        46.04, 43.25, 40.46, 37.67, 34.88,\n",
    "        32.09, 29.30, 26.51, 23.72, 20.93,\n",
    "        18.14, 15.35, 12.56,  9.77,  6.98,\n",
    "         4.19,  1.40, -1.40, -4.19, -6.98,\n",
    "        -9.77,-12.56,-15.35,-18.14,-20.93,\n",
    "       -23.72,-26.51,-29.30,-32.09,-34.88,\n",
    "       -37.67,-40.46,-43.25,-46.04,-48.84,\n",
    "       -51.63,-54.42,-57.21,-60.00,-62.79,\n",
    "       -65.58,-68.37,-71.16,-73.95,-76.74,\n",
    "       -79.53,-82.31,-85.10,-87.86]\n",
    "\n",
    "tomcat_lon_360 = np.arange(0,360,2.8125)\n",
    "\n",
    "tomcat_lon = []\n",
    "new_lon = 0\n",
    "\n",
    "for i in range(len(tomcat_lon_360)):\n",
    "    if tomcat_lon_360[i] > 180:\n",
    "        new_lon = tomcat_lon_360[i]-360\n",
    "    else:\n",
    "        new_lon = tomcat_lon_360[i]\n",
    "    tomcat_lon = np.append(tomcat_lon,new_lon)\n",
    "    \n",
    "tomcat_lon = np.sort(tomcat_lon)\n",
    "\n"
   ]
  },
  {
   "cell_type": "code",
   "execution_count": null,
   "id": "efe4eded-a9a7-4195-8f78-1ea33c1f931b",
   "metadata": {},
   "outputs": [],
   "source": [
    "for i in range(len(tomcat_lat)):\n",
    "    print('value of i is = ', i)\n",
    "    if tomcat_lat[i]>np.min(lat):\n",
    "        for j in range(len(tomcat_lon)):\n",
    "            coord1 = (tomcat_lat[i],tomcat_lon[j])\n",
    "            for k in range(361):\n",
    "                for l in range(361):\n",
    "                    coord2 = (lat[k][l],lon[k][l])\n",
    "                    dist = gd.geodesic(coord1,coord2)\n",
    "        \n",
    "        "
   ]
  },
  {
   "cell_type": "code",
   "execution_count": 17,
   "id": "8e879e34-ee25-47c0-ab16-b8592946cc15",
   "metadata": {},
   "outputs": [
    {
     "name": "stdout",
     "output_type": "stream",
     "text": [
      "-179.68169 180.0\n",
      "29.896942 90.0\n"
     ]
    }
   ],
   "source": [
    "print (np.min(lon[0].data),np.max(lon[0].data))\n",
    "print (np.min(lat[0].data),np.max(lat[0].data))"
   ]
  },
  {
   "cell_type": "code",
   "execution_count": null,
   "id": "3bc4ce4f-ae35-48d4-89ea-ac4f6115edd3",
   "metadata": {},
   "outputs": [],
   "source": []
  }
 ],
 "metadata": {
  "kernelspec": {
   "display_name": "Python 3 (ipykernel)",
   "language": "python",
   "name": "python3"
  },
  "language_info": {
   "codemirror_mode": {
    "name": "ipython",
    "version": 3
   },
   "file_extension": ".py",
   "mimetype": "text/x-python",
   "name": "python",
   "nbconvert_exporter": "python",
   "pygments_lexer": "ipython3",
   "version": "3.7.13"
  }
 },
 "nbformat": 4,
 "nbformat_minor": 5
}
