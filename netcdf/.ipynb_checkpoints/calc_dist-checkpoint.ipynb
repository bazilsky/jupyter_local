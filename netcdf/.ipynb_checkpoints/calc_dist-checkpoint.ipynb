{
 "cells": [
  {
   "cell_type": "code",
   "execution_count": 1,
   "id": "00c5f8e2-7a09-40a2-8825-6a5655181c42",
   "metadata": {},
   "outputs": [],
   "source": [
    "#interpolate snow depth and get it onto the tomcat grid\n",
    "import iris\n",
    "import numpy as np \n",
    "from geopy.distance import geodesic as GD\n",
    "import time\n",
    "\n",
    "snow_depth = iris.load('snow_depth_1.nc')[0].data\n",
    "lat = iris.load('latitude.nc')[0].data\n",
    "lon = iris.load('longitude.nc')[0].data\n",
    "\n",
    "#tomcat lat and lon\n",
    "\n",
    "tomcat_lat = np.array([87.86, 85.10, 82.31, 79.53, 76.74,\n",
    "        73.95, 71.16, 68.37, 65.58, 62.79,\n",
    "        60.00, 57.21, 54.42, 51.63, 48.84,\n",
    "        46.04, 43.25, 40.46, 37.67, 34.88,\n",
    "        32.09, 29.30, 26.51, 23.72, 20.93,\n",
    "        18.14, 15.35, 12.56,  9.77,  6.98,\n",
    "         4.19,  1.40, -1.40, -4.19, -6.98,\n",
    "        -9.77,-12.56,-15.35,-18.14,-20.93,\n",
    "       -23.72,-26.51,-29.30,-32.09,-34.88,\n",
    "       -37.67,-40.46,-43.25,-46.04,-48.84,\n",
    "       -51.63,-54.42,-57.21,-60.00,-62.79,\n",
    "       -65.58,-68.37,-71.16,-73.95,-76.74,\n",
    "       -79.53,-82.31,-85.10,-87.86])\n",
    "\n",
    "tomcat_lon_360 = np.arange(0,360,2.8125)\n",
    "\n",
    "tomcat_lon = []\n",
    "new_lon = 0\n",
    "\n",
    "for i in range(len(tomcat_lon_360)):\n",
    "    if tomcat_lon_360[i] > 180:\n",
    "        new_lon = tomcat_lon_360[i]-360\n",
    "    else:\n",
    "        new_lon = tomcat_lon_360[i]\n",
    "    tomcat_lon = np.append(tomcat_lon,new_lon)\n",
    "    \n",
    "tomcat_lon = np.sort(tomcat_lon)\n",
    "\n",
    "\n"
   ]
  },
  {
   "cell_type": "code",
   "execution_count": 2,
   "id": "2c159b98-f7af-44d0-ae2a-afb5fbd8cfa7",
   "metadata": {},
   "outputs": [],
   "source": [
    "#new_snow_depth = np.zeros((12,130321,130321))\n",
    "#a = '130321'\n",
    "#np.min(lat_1d)"
   ]
  },
  {
   "cell_type": "code",
   "execution_count": 3,
   "id": "d6d3444b-fbb0-4c3c-81bc-68fc5e8d5183",
   "metadata": {},
   "outputs": [],
   "source": [
    "lat_1d = lat.flatten()\n",
    "lon_1d = lon.flatten()\n",
    "dist_arr = np.array([])\n",
    "\n",
    "tomcat_lat_arctic = tomcat_lat[tomcat_lat>60]\n",
    "point_arr = []\n",
    "point_index_arr = []\n",
    "\n",
    "for i in range(len(tomcat_lat_arctic)):\n",
    "    for j in range(len(tomcat_lon)):\n",
    "        \n",
    "        point = (tomcat_lat_arctic[i],tomcat_lon[j])\n",
    "        point_index = (i,j)\n",
    "        \n",
    "        point_arr.append(point)\n",
    "        point_index_arr.append(point_index)\n",
    "\n",
    "tomcat_snow_depth = np.zeros((12,len(tomcat_lat),len(tomcat_lon))) \n",
    "\n"
   ]
  },
  {
   "cell_type": "code",
   "execution_count": 4,
   "id": "f2992151-91a9-4e52-aa7f-7ae7c0f627fc",
   "metadata": {},
   "outputs": [
    {
     "data": {
      "text/plain": [
       "1280"
      ]
     },
     "execution_count": 4,
     "metadata": {},
     "output_type": "execute_result"
    }
   ],
   "source": [
    "len(point_arr)\n",
    "#point_arr[0][0]"
   ]
  },
  {
   "cell_type": "code",
   "execution_count": 6,
   "id": "296b2b84-cd6e-4f80-8e3c-1bc66fa45b96",
   "metadata": {},
   "outputs": [
    {
     "name": "stdout",
     "output_type": "stream",
     "text": [
      "value of k =  0\n",
      "point_index_arr[k][i], point_index_arr[k][j] =  0 0\n",
      "reverse_index[0],reverse_index[1] =  189 360\n",
      "code time =  23.126840829849243\n"
     ]
    },
    {
     "data": {
      "text/plain": [
       "\"\\nfor k in range(12):\\n    print('value of k = ', k)\\n    snow_depth_1d = snow_depth[k,:,:].flatten()\\n    for i in range(130321):\\n    #for j in range(722):\\n        new_snow_depth[k,i,i] = snow_depth_1d[i]\\n\""
      ]
     },
     "execution_count": 6,
     "metadata": {},
     "output_type": "execute_result"
    }
   ],
   "source": [
    "time1 = time.time()\n",
    "\n",
    "#for k in range(len(point_arr)):\n",
    "for k in [10]:\n",
    "    print('value of k = ',k)\n",
    "    point2 = point_arr[k] # this k value has a certain i and j corresponding to tomcat array \n",
    "    dist_arr = []\n",
    "    for i in range(len(lat_1d)):\n",
    "        point1 = (lat_1d[i], lon_1d[i])\n",
    "        #point2 = (tomcat_lat_arctic[0], tomcat_lon[0])\n",
    "        dist = GD(point1,point2).km\n",
    "        dist_arr = np.append(dist_arr,dist)\n",
    "    index = np.argmin(dist_arr)\n",
    "    reverse_index = (int(index/361),i%361)\n",
    "    print('point_index_arr[k][i], point_index_arr[k][j] = ', point_index_arr[k][0], point_index_arr[k][1])\n",
    "    print('reverse_index[0],reverse_index[1] = ', reverse_index[0],reverse_index[1])\n",
    "    tomcat_snow_depth[:, point_index_arr[k][0], point_index_arr[k][1]] = snow_depth[:,reverse_index[0],reverse_index[1]]\n",
    "    \n",
    "#snow_depth_tomcat =                                     # position in array with values int(i/361), i%361 \n",
    "\n",
    "time2 = time.time()\n",
    "\n",
    "print('code time = ', time2 - time1)\n",
    "\"\"\"\n",
    "for k in range(12):\n",
    "    print('value of k = ', k)\n",
    "    snow_depth_1d = snow_depth[k,:,:].flatten()\n",
    "    for i in range(130321):\n",
    "    #for j in range(722):\n",
    "        new_snow_depth[k,i,i] = snow_depth_1d[i]\n",
    "\"\"\""
   ]
  },
  {
   "cell_type": "code",
   "execution_count": 13,
   "id": "3959ae80-3f15-490c-914c-deba5366c763",
   "metadata": {},
   "outputs": [
    {
     "data": {
      "text/html": [
       "\n",
       "<style>\n",
       "    .accordion-140209223372432 {\n",
       "        color: var(--jp-ui-font-color2);\n",
       "        background: var(--jp-layout-color2);\n",
       "        cursor: pointer;\n",
       "        padding: 10px;\n",
       "        border: 1px solid var(--jp-border-color0);\n",
       "        width: 100%;\n",
       "        text-align: left;\n",
       "        font-size: 14px;\n",
       "        font-family: var(--jp-code-font-family);\n",
       "        font-weight: normal;\n",
       "        outline: none;\n",
       "        transition: 0.4s;\n",
       "    }\n",
       "    .active {\n",
       "        background: var(--jp-layout-color1);\n",
       "        font-weight: 900;\n",
       "    }\n",
       "    .accordion-140209223372432.active {\n",
       "        border: 1px solid var(--jp-brand-color1) !important;\n",
       "    }\n",
       "    .accordion-140209223372432:hover {\n",
       "        box-shadow: var(--jp-input-box-shadow);\n",
       "        border: 2px solid var(--jp-brand-color1);\n",
       "    }\n",
       "    .panel-140209223372432 {\n",
       "        padding: 0 18px;\n",
       "        margin-bottom: 5px;\n",
       "        background-color: var(--jp-layout-color1);\n",
       "        display: none;\n",
       "        overflow: hidden;\n",
       "        border: 1px solid var(--jp-brand-color2);\n",
       "    }\n",
       "</style>\n",
       "<script type=\"text/javascript\">\n",
       "    var accordion = document.getElementsByClassName(\"accordion-140209223372432\");\n",
       "    var i;\n",
       "\n",
       "    for (i = 0; i < accordion.length; i++) {\n",
       "        accordion[i].addEventListener(\"click\", function() {\n",
       "            this.classList.toggle(\"active\");\n",
       "\n",
       "            var panel = this.nextElementSibling;\n",
       "            if (panel.style.display === \"block\") {\n",
       "                panel.style.display = \"none\";\n",
       "            } else {\n",
       "                panel.style.display = \"block\";\n",
       "            }\n",
       "        });\n",
       "    }\n",
       "</script>\n",
       "\n",
       "<button class=\"accordion-140209223372432\">0: snow_depth / (m)                    (time: 12; lat: 64; lon: 128)</button>\n",
       "<div class=\"panel-140209223372432\">\n",
       "    <p>\n",
       "<style>\n",
       "  a.iris {\n",
       "      text-decoration: none !important;\n",
       "  }\n",
       "  table.iris {\n",
       "      white-space: pre;\n",
       "      border: 1px solid;\n",
       "      border-color: #9c9c9c;\n",
       "      font-family: monaco, monospace;\n",
       "  }\n",
       "  th.iris {\n",
       "      background: #303f3f;\n",
       "      color: #e0e0e0;\n",
       "      border-left: 1px solid;\n",
       "      border-color: #9c9c9c;\n",
       "      font-size: 1.05em;\n",
       "      min-width: 50px;\n",
       "      max-width: 125px;\n",
       "  }\n",
       "  tr.iris :first-child {\n",
       "      border-right: 1px solid #9c9c9c !important;\n",
       "  }\n",
       "  td.iris-title {\n",
       "      background: #d5dcdf;\n",
       "      border-top: 1px solid #9c9c9c;\n",
       "      font-weight: bold;\n",
       "  }\n",
       "  .iris-word-cell {\n",
       "      text-align: left !important;\n",
       "      white-space: pre;\n",
       "  }\n",
       "  .iris-subheading-cell {\n",
       "      padding-left: 2em !important;\n",
       "  }\n",
       "  .iris-inclusion-cell {\n",
       "      padding-right: 1em !important;\n",
       "  }\n",
       "  .iris-panel-body {\n",
       "      padding-top: 0px;\n",
       "  }\n",
       "  .iris-panel-title {\n",
       "      padding-left: 3em;\n",
       "  }\n",
       "  .iris-panel-title {\n",
       "      margin-top: 7px;\n",
       "  }\n",
       "</style>\n",
       "<table class=\"iris\" id=\"140209507794448\">\n",
       "    <tr class=\"iris\">\n",
       "<th class=\"iris iris-word-cell\">Snow Depth (m)</th>\n",
       "<th class=\"iris iris-word-cell\">time</th>\n",
       "<th class=\"iris iris-word-cell\">lat</th>\n",
       "<th class=\"iris iris-word-cell\">lon</th>\n",
       "</tr>\n",
       "    <tr class=\"iris\">\n",
       "<td class=\"iris-word-cell iris-subheading-cell\">Shape</td>\n",
       "<td class=\"iris iris-inclusion-cell\">12</td>\n",
       "<td class=\"iris iris-inclusion-cell\">64</td>\n",
       "<td class=\"iris iris-inclusion-cell\">128</td>\n",
       "</tr>\n",
       "    <tr class=\"iris\">\n",
       "    <td class=\"iris-title iris-word-cell\">Dimension coordinates</td>\n",
       "    <td class=\"iris-title\"></td>\n",
       "    <td class=\"iris-title\"></td>\n",
       "    <td class=\"iris-title\"></td>\n",
       "</tr>\n",
       "<tr class=\"iris\">\n",
       "    <td class=\"iris-word-cell iris-subheading-cell\">\ttime</td>\n",
       "    <td class=\"iris-inclusion-cell\">x</td>\n",
       "    <td class=\"iris-inclusion-cell\">-</td>\n",
       "    <td class=\"iris-inclusion-cell\">-</td>\n",
       "</tr>\n",
       "<tr class=\"iris\">\n",
       "    <td class=\"iris-word-cell iris-subheading-cell\">\tlat</td>\n",
       "    <td class=\"iris-inclusion-cell\">-</td>\n",
       "    <td class=\"iris-inclusion-cell\">x</td>\n",
       "    <td class=\"iris-inclusion-cell\">-</td>\n",
       "</tr>\n",
       "<tr class=\"iris\">\n",
       "    <td class=\"iris-word-cell iris-subheading-cell\">\tlon</td>\n",
       "    <td class=\"iris-inclusion-cell\">-</td>\n",
       "    <td class=\"iris-inclusion-cell\">-</td>\n",
       "    <td class=\"iris-inclusion-cell\">x</td>\n",
       "</tr>\n",
       "</table>\n",
       "        </p>\n",
       "</div>\n",
       "    \n",
       "    "
      ],
      "text/plain": [
       "[<iris 'Cube' of snow_depth / (m) (time: 12; lat: 64; lon: 128)>]"
      ]
     },
     "execution_count": 13,
     "metadata": {},
     "output_type": "execute_result"
    }
   ],
   "source": [
    "#save netcdf file of tomcat snow depth\n",
    "# save snow depth, latitude and longitude into a netcdf file\n",
    "import netCDF4 as nc\n",
    "import os\n",
    "\n",
    "fn = 'tomcat_now_depth_1.nc'\n",
    "\n",
    "os.remove(fn)\n",
    "ds = nc.Dataset(fn,'w',format = 'NETCDF4')\n",
    "\n",
    "time = ds.createDimension('time',12)\n",
    "lat_dim = ds.createDimension('lat',len(tomcat_lat))\n",
    "lon_dim = ds.createDimension('lon',len(tomcat_lon))\n",
    "\n",
    "temp_time = np.arange(1,13,1)\n",
    "temp_lat = np.linspace(1,2,len(tomcat_lat))\n",
    "temp_lon = np.linspace(1,2,len(tomcat_lon))\n",
    "np.shape(temp_time)\n",
    "\n",
    "times = ds.createVariable('time', 'f4', ('time',))\n",
    "lats = ds.createVariable('lat', 'f4', ('lat',))\n",
    "lons = ds.createVariable('lon', 'f4', ('lon',))\n",
    "value = ds.createVariable('snow_depth', 'f4', ('time', 'lat', 'lon',))\n",
    "value.units = 'm'\n",
    "\n",
    "lats[:]=temp_lat\n",
    "lons[:]=temp_lon\n",
    "times[:]= temp_time\n",
    "\n",
    "value[:,:,:] = tomcat_snow_depth\n",
    "ds.close()\n",
    "\n",
    "cube111 = iris.load(fn)\n",
    "cube111\n",
    "\n"
   ]
  },
  {
   "cell_type": "code",
   "execution_count": 12,
   "id": "e525e101-099d-43ef-9faf-f998ac08330d",
   "metadata": {},
   "outputs": [
    {
     "data": {
      "text/plain": [
       "0.0"
      ]
     },
     "execution_count": 12,
     "metadata": {},
     "output_type": "execute_result"
    }
   ],
   "source": [
    "np.max(tomcat_snow_depth[:,0,0])\n",
    "np.max(snow_depth[:,189,360])\n"
   ]
  },
  {
   "cell_type": "code",
   "execution_count": null,
   "id": "41252c1e-e07b-4bd3-a654-623504bf1dcc",
   "metadata": {},
   "outputs": [],
   "source": [
    "new_snow_depth_2 = np.sort(new_snow_depth, axis = 1)\n",
    "new_snow_depth_3 = np.sort(new_snow_depth_2, axis = 2)\n",
    "\n",
    "\n",
    "snow_depth_1d.shape"
   ]
  },
  {
   "cell_type": "code",
   "execution_count": 1,
   "id": "3bc4ce4f-ae35-48d4-89ea-ac4f6115edd3",
   "metadata": {},
   "outputs": [
    {
     "ename": "NameError",
     "evalue": "name 'np' is not defined",
     "output_type": "error",
     "traceback": [
      "\u001b[0;31m---------------------------------------------------------------------------\u001b[0m",
      "\u001b[0;31mNameError\u001b[0m                                 Traceback (most recent call last)",
      "\u001b[0;32m/var/folders/m6/qj3v2qcs35d7x8gdhqzsc7280000gn/T/ipykernel_42443/2367674593.py\u001b[0m in \u001b[0;36m<module>\u001b[0;34m\u001b[0m\n\u001b[1;32m     12\u001b[0m \u001b[0mlon_dim\u001b[0m \u001b[0;34m=\u001b[0m \u001b[0mds\u001b[0m\u001b[0;34m.\u001b[0m\u001b[0mcreateDimension\u001b[0m\u001b[0;34m(\u001b[0m\u001b[0;34m'unknown2'\u001b[0m\u001b[0;34m,\u001b[0m\u001b[0;36m130321\u001b[0m\u001b[0;34m)\u001b[0m\u001b[0;34m\u001b[0m\u001b[0;34m\u001b[0m\u001b[0m\n\u001b[1;32m     13\u001b[0m \u001b[0;34m\u001b[0m\u001b[0m\n\u001b[0;32m---> 14\u001b[0;31m \u001b[0mtemp_time\u001b[0m \u001b[0;34m=\u001b[0m \u001b[0mnp\u001b[0m\u001b[0;34m.\u001b[0m\u001b[0marange\u001b[0m\u001b[0;34m(\u001b[0m\u001b[0;36m1\u001b[0m\u001b[0;34m,\u001b[0m\u001b[0;36m13\u001b[0m\u001b[0;34m,\u001b[0m\u001b[0;36m1\u001b[0m\u001b[0;34m)\u001b[0m\u001b[0;34m\u001b[0m\u001b[0;34m\u001b[0m\u001b[0m\n\u001b[0m\u001b[1;32m     15\u001b[0m \u001b[0mtemp_lat\u001b[0m \u001b[0;34m=\u001b[0m \u001b[0mnp\u001b[0m\u001b[0;34m.\u001b[0m\u001b[0mlinspace\u001b[0m\u001b[0;34m(\u001b[0m\u001b[0;36m1\u001b[0m\u001b[0;34m,\u001b[0m\u001b[0;36m2\u001b[0m\u001b[0;34m,\u001b[0m\u001b[0;36m130321\u001b[0m\u001b[0;34m)\u001b[0m\u001b[0;34m\u001b[0m\u001b[0;34m\u001b[0m\u001b[0m\n\u001b[1;32m     16\u001b[0m \u001b[0mtemp_lon\u001b[0m \u001b[0;34m=\u001b[0m \u001b[0mnp\u001b[0m\u001b[0;34m.\u001b[0m\u001b[0mlinspace\u001b[0m\u001b[0;34m(\u001b[0m\u001b[0;36m1\u001b[0m\u001b[0;34m,\u001b[0m\u001b[0;36m2\u001b[0m\u001b[0;34m,\u001b[0m\u001b[0;36m130321\u001b[0m\u001b[0;34m)\u001b[0m\u001b[0;34m\u001b[0m\u001b[0;34m\u001b[0m\u001b[0m\n",
      "\u001b[0;31mNameError\u001b[0m: name 'np' is not defined"
     ]
    }
   ],
   "source": [
    "# save snow depth, latitude and longitude into a netcdf file\n",
    "import netCDF4 as nc\n",
    "import os\n",
    "\n",
    "fn = 'snow_depth_regrid.nc'\n",
    "\n",
    "os.remove(fn)\n",
    "ds = nc.Dataset(fn,'w',format = 'NETCDF4')\n",
    "\n",
    "time = ds.createDimension('time',12)\n",
    "lat_dim = ds.createDimension('unknown1',130321)\n",
    "lon_dim = ds.createDimension('unknown2',130321)\n",
    "\n",
    "temp_time = np.arange(1,13,1)\n",
    "temp_lat = np.linspace(1,2,130321)\n",
    "temp_lon = np.linspace(1,2,130321)\n",
    "np.shape(temp_time)\n",
    "\n",
    "times = ds.createVariable('time', 'f4', ('time',))\n",
    "lats = ds.createVariable('unknown1', 'f4', ('unknown1',))\n",
    "lons = ds.createVariable('unknown2', 'f4', ('unknown2',))\n",
    "value = ds.createVariable('snow_depth', 'f4', ('time', 'unknown1', 'unknown2',))\n",
    "value.units = 'm'\n",
    "\n",
    "lats[:]=temp_lat\n",
    "lons[:]=temp_lon\n",
    "times[:]= temp_time\n",
    "\n",
    "value[:,:,:] = new_snow_depth_3\n",
    "ds.close()\n",
    "\n",
    "cube111 = iris.load(fn)\n",
    "cube111\n"
   ]
  },
  {
   "cell_type": "code",
   "execution_count": 61,
   "id": "e9774284-4135-4fba-b6fd-ff0791e58061",
   "metadata": {},
   "outputs": [
    {
     "data": {
      "text/plain": [
       "array([ 1.,  2.,  3.,  4.,  5.,  6.,  7.,  8.,  9., 10., 11., 12.],\n",
       "      dtype=float32)"
      ]
     },
     "execution_count": 61,
     "metadata": {},
     "output_type": "execute_result"
    }
   ],
   "source": [
    "cube111[0].coord('time').points"
   ]
  },
  {
   "cell_type": "code",
   "execution_count": 72,
   "id": "5375f9fe-1350-41e4-88df-268f09232061",
   "metadata": {},
   "outputs": [
    {
     "data": {
      "text/plain": [
       "(130321,)"
      ]
     },
     "execution_count": 72,
     "metadata": {},
     "output_type": "execute_result"
    }
   ],
   "source": [
    "lat_1d.shape"
   ]
  },
  {
   "cell_type": "code",
   "execution_count": 7,
   "id": "e54be12c-04ec-4ddd-b7ab-658127cb68a8",
   "metadata": {},
   "outputs": [
    {
     "data": {
      "text/plain": [
       "1674647090.675165"
      ]
     },
     "execution_count": 7,
     "metadata": {},
     "output_type": "execute_result"
    }
   ],
   "source": [
    "time.time()"
   ]
  },
  {
   "cell_type": "code",
   "execution_count": 8,
   "id": "fc648d58-c08b-42cc-8ab5-f6feb11e1258",
   "metadata": {},
   "outputs": [
    {
     "data": {
      "text/plain": [
       "1674647097.5032718"
      ]
     },
     "execution_count": 8,
     "metadata": {},
     "output_type": "execute_result"
    }
   ],
   "source": [
    "time.time()"
   ]
  },
  {
   "cell_type": "code",
   "execution_count": 15,
   "id": "3caa7ba0-3819-488e-8d47-e164cfc7f489",
   "metadata": {},
   "outputs": [
    {
     "data": {
      "text/plain": [
       "2"
      ]
     },
     "execution_count": 15,
     "metadata": {},
     "output_type": "execute_result"
    }
   ],
   "source": [
    "int(8/3)"
   ]
  },
  {
   "cell_type": "code",
   "execution_count": 16,
   "id": "cbf1cf96-8552-4078-96eb-692676f33bdb",
   "metadata": {},
   "outputs": [
    {
     "data": {
      "text/plain": [
       "2"
      ]
     },
     "execution_count": 16,
     "metadata": {},
     "output_type": "execute_result"
    }
   ],
   "source": [
    "int(10/4)"
   ]
  },
  {
   "cell_type": "code",
   "execution_count": 17,
   "id": "d889bc6d-9807-450e-8107-d7965dce1423",
   "metadata": {},
   "outputs": [
    {
     "data": {
      "text/plain": [
       "2"
      ]
     },
     "execution_count": 17,
     "metadata": {},
     "output_type": "execute_result"
    }
   ],
   "source": [
    "10%4"
   ]
  },
  {
   "cell_type": "code",
   "execution_count": 18,
   "id": "b1cd4ce7-0d23-4e9e-ad6c-27f6ec9eaeb7",
   "metadata": {},
   "outputs": [],
   "source": [
    "a = [1,2]\n"
   ]
  },
  {
   "cell_type": "code",
   "execution_count": 19,
   "id": "d580fe68-5e5a-498e-8f1f-98eb6b2d2dac",
   "metadata": {},
   "outputs": [],
   "source": [
    "a.append((7,125))"
   ]
  },
  {
   "cell_type": "code",
   "execution_count": 20,
   "id": "0f87a504-ada3-4666-bea9-89d0f7efafcd",
   "metadata": {},
   "outputs": [
    {
     "data": {
      "text/plain": [
       "[(1, 2), (7, 125)]"
      ]
     },
     "execution_count": 20,
     "metadata": {},
     "output_type": "execute_result"
    }
   ],
   "source": [
    "a"
   ]
  },
  {
   "cell_type": "code",
   "execution_count": null,
   "id": "812c57db-b010-42cb-8e07-53b5613ffe29",
   "metadata": {},
   "outputs": [],
   "source": []
  }
 ],
 "metadata": {
  "kernelspec": {
   "display_name": "Python 3 (ipykernel)",
   "language": "python",
   "name": "python3"
  },
  "language_info": {
   "codemirror_mode": {
    "name": "ipython",
    "version": 3
   },
   "file_extension": ".py",
   "mimetype": "text/x-python",
   "name": "python",
   "nbconvert_exporter": "python",
   "pygments_lexer": "ipython3",
   "version": "3.7.13"
  }
 },
 "nbformat": 4,
 "nbformat_minor": 5
}
