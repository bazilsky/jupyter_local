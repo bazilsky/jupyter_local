{
 "cells": [
  {
   "cell_type": "code",
   "execution_count": 9,
   "id": "834b1d4c-5c9d-49f9-b48e-7adec6044924",
   "metadata": {},
   "outputs": [
    {
     "name": "stdout",
     "output_type": "stream",
     "text": [
      "value of k =  10\n",
      "point_index_arr[k][i], point_index_arr[k][j] =  0 10\n",
      "reverse_index[0],reverse_index[1] =  188 360\n",
      "code time =  23.233668088912964\n"
     ]
    }
   ],
   "source": [
    "import numpy as np\n",
    "import iris\n",
    "import numpy as np\n",
    "from geopy.distance import geodesic as GD\n",
    "import time\n",
    "import netCDF4 as nc\n",
    "import os\n",
    "\n",
    "\n",
    "\n",
    "def main():\n",
    "    snow_depth = iris.load('snow_depth_1.nc')[0].data\n",
    "    lat = iris.load('latitude.nc')[0].data\n",
    "    lon = iris.load('longitude.nc')[0].data\n",
    "\n",
    "    #tomcat lat and lon\n",
    "\n",
    "    tomcat_lat = np.array([87.86, 85.10, 82.31, 79.53, 76.74,\n",
    "            73.95, 71.16, 68.37, 65.58, 62.79,\n",
    "            60.00, 57.21, 54.42, 51.63, 48.84,\n",
    "            46.04, 43.25, 40.46, 37.67, 34.88,\n",
    "            32.09, 29.30, 26.51, 23.72, 20.93,\n",
    "            18.14, 15.35, 12.56,  9.77,  6.98,\n",
    "             4.19,  1.40, -1.40, -4.19, -6.98,\n",
    "            -9.77,-12.56,-15.35,-18.14,-20.93,\n",
    "           -23.72,-26.51,-29.30,-32.09,-34.88,\n",
    "           -37.67,-40.46,-43.25,-46.04,-48.84,\n",
    "           -51.63,-54.42,-57.21,-60.00,-62.79,\n",
    "           -65.58,-68.37,-71.16,-73.95,-76.74,\n",
    "           -79.53,-82.31,-85.10,-87.86])\n",
    "\n",
    "    tomcat_lon_360 = np.arange(0,360,2.8125)\n",
    "\n",
    "    tomcat_lon = []\n",
    "    new_lon = 0\n",
    "\n",
    "    for i in range(len(tomcat_lon_360)):\n",
    "        if tomcat_lon_360[i] > 180:\n",
    "            new_lon = tomcat_lon_360[i]-360\n",
    "        else:\n",
    "            new_lon = tomcat_lon_360[i]\n",
    "        tomcat_lon = np.append(tomcat_lon,new_lon)\n",
    "\n",
    "    tomcat_lon = np.sort(tomcat_lon)\n",
    "\n",
    "\n",
    "    lat_1d = lat.flatten()\n",
    "    lon_1d = lon.flatten()\n",
    "    dist_arr = np.array([])\n",
    "\n",
    "    tomcat_lat_arctic = tomcat_lat[tomcat_lat>60]\n",
    "    point_arr = []\n",
    "    point_index_arr = []\n",
    "\n",
    "    for i in range(len(tomcat_lat_arctic)):\n",
    "        for j in range(len(tomcat_lon)):\n",
    "\n",
    "            point = (tomcat_lat_arctic[i],tomcat_lon[j])\n",
    "            point_index = (i,j)\n",
    "\n",
    "            point_arr.append(point)\n",
    "            point_index_arr.append(point_index)\n",
    "\n",
    "    tomcat_snow_depth = np.zeros((12,len(tomcat_lat),len(tomcat_lon)))\n",
    "    import time\n",
    "    time1 = time.time()\n",
    "\n",
    "    #for k in range(len(point_arr)):\n",
    "    for k in [10]: # testing just one array value\n",
    "        print('value of k = ',k)\n",
    "        point2 = point_arr[k] # this k value has a certain i and j corresponding to tomcat array\n",
    "        dist_arr = []\n",
    "        for i in range(len(lat_1d)):\n",
    "            point1 = (lat_1d[i], lon_1d[i])\n",
    "            #point2 = (tomcat_lat_arctic[0], tomcat_lon[0])\n",
    "            dist = GD(point1,point2).km\n",
    "            dist_arr = np.append(dist_arr,dist)\n",
    "        index = np.argmin(dist_arr)\n",
    "        reverse_index = (int(index/361),i%361)\n",
    "        print('point_index_arr[k][i], point_index_arr[k][j] = ', point_index_arr[k][0], point_index_arr[k][1])\n",
    "        print('reverse_index[0],reverse_index[1] = ', reverse_index[0],reverse_index[1])\n",
    "        tomcat_snow_depth[:, point_index_arr[k][0], point_index_arr[k][1]] = snow_depth[:,reverse_index[0],reverse_index[1]]\n",
    "\n",
    "    #snow_depth_tomcat =                                     # position in array with values int(i/361), i%361\n",
    "    \n",
    "    time2 = time.time()\n",
    "\n",
    "    print('code time = ', time2 - time1)\n",
    "\n",
    "    #save netcdf file of tomcat snow depth\n",
    "    # save snow depth, latitude and longitude into a netcdf file\n",
    "\n",
    "    fn = 'tomcat_now_depth_1.nc'\n",
    "\n",
    "    os.remove(fn)\n",
    "    ds = nc.Dataset(fn,'w',format = 'NETCDF4')\n",
    "\n",
    "    time = ds.createDimension('time',12)\n",
    "    lat_dim = ds.createDimension('lat',len(tomcat_lat))\n",
    "    lon_dim = ds.createDimension('lon',len(tomcat_lon))\n",
    "\n",
    "    temp_time = np.arange(1,13,1)\n",
    "    temp_lat = np.linspace(1,2,len(tomcat_lat))\n",
    "    temp_lon = np.linspace(1,2,len(tomcat_lon))\n",
    "    np.shape(temp_time)\n",
    "\n",
    "    times = ds.createVariable('time', 'f4', ('time',))\n",
    "    lats = ds.createVariable('lat', 'f4', ('lat',))\n",
    "    lons = ds.createVariable('lon', 'f4', ('lon',))\n",
    "    value = ds.createVariable('snow_depth', 'f4', ('time', 'lat', 'lon',))\n",
    "    value.units = 'm'\n",
    "\n",
    "    lats[:]=temp_lat\n",
    "    lons[:]=temp_lon\n",
    "    times[:]= temp_time\n",
    "\n",
    "    value[:,:,:] = tomcat_snow_depth\n",
    "    ds.close()\n",
    "\n",
    "    #cube111 = iris.load(fn)\n",
    "    #cube111\n",
    "\n",
    "if __name__ == '__main__':\n",
    "    #print('time = '. time.time())\n",
    "    main()\n"
   ]
  },
  {
   "cell_type": "code",
   "execution_count": 4,
   "id": "523a12cb-4ef4-4f09-8c60-928f0b3a2796",
   "metadata": {},
   "outputs": [
    {
     "data": {
      "text/plain": [
       "1674726261.942716"
      ]
     },
     "execution_count": 4,
     "metadata": {},
     "output_type": "execute_result"
    }
   ],
   "source": [
    "time.time()"
   ]
  },
  {
   "cell_type": "code",
   "execution_count": 10,
   "id": "845dbdb5-c838-4b1e-b286-cf58e32eef40",
   "metadata": {},
   "outputs": [
    {
     "name": "stdout",
     "output_type": "stream",
     "text": [
      "0\n",
      "1\n",
      "2\n",
      "3\n",
      "4\n",
      "5\n",
      "6\n",
      "7\n",
      "8\n",
      "9\n"
     ]
    }
   ],
   "source": []
  },
  {
   "cell_type": "code",
   "execution_count": null,
   "id": "d4bf892c-875c-4491-8eb9-ce25f102bc05",
   "metadata": {},
   "outputs": [],
   "source": []
  }
 ],
 "metadata": {
  "kernelspec": {
   "display_name": "Python 3 (ipykernel)",
   "language": "python",
   "name": "python3"
  },
  "language_info": {
   "codemirror_mode": {
    "name": "ipython",
    "version": 3
   },
   "file_extension": ".py",
   "mimetype": "text/x-python",
   "name": "python",
   "nbconvert_exporter": "python",
   "pygments_lexer": "ipython3",
   "version": "3.7.13"
  }
 },
 "nbformat": 4,
 "nbformat_minor": 5
}
