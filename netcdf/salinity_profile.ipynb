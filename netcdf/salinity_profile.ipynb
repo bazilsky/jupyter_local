{
 "cells": [
  {
   "cell_type": "code",
   "execution_count": 95,
   "id": "9f116e55-206f-4c8d-a74c-cefb85b4e9e8",
   "metadata": {},
   "outputs": [],
   "source": [
    "import pandas as pd\n",
    "import numpy as np \n",
    "from pylab import plt\n",
    "df = pd.read_excel('blowsea_salinity.xlsx','data_cleanup');\n",
    "\n",
    "a = df.to_numpy()"
   ]
  },
  {
   "cell_type": "code",
   "execution_count": 96,
   "id": "6d1018cf-368f-4ffe-b993-82f130c950fc",
   "metadata": {},
   "outputs": [
    {
     "data": {
      "text/html": [
       "<div>\n",
       "<style scoped>\n",
       "    .dataframe tbody tr th:only-of-type {\n",
       "        vertical-align: middle;\n",
       "    }\n",
       "\n",
       "    .dataframe tbody tr th {\n",
       "        vertical-align: top;\n",
       "    }\n",
       "\n",
       "    .dataframe thead th {\n",
       "        text-align: right;\n",
       "    }\n",
       "</style>\n",
       "<table border=\"1\" class=\"dataframe\">\n",
       "  <thead>\n",
       "    <tr style=\"text-align: right;\">\n",
       "      <th></th>\n",
       "      <th>time, UTC</th>\n",
       "      <th>lat</th>\n",
       "      <th>lon</th>\n",
       "      <th>top</th>\n",
       "      <th>bot</th>\n",
       "      <th>mid</th>\n",
       "      <th>cond, mS/cm</th>\n",
       "      <th>salinity</th>\n",
       "      <th>sample type</th>\n",
       "    </tr>\n",
       "  </thead>\n",
       "  <tbody>\n",
       "    <tr>\n",
       "      <th>0</th>\n",
       "      <td>2013-06-21 14:00:00</td>\n",
       "      <td>-66.47</td>\n",
       "      <td>0.10</td>\n",
       "      <td>0.0</td>\n",
       "      <td>2.0</td>\n",
       "      <td>1.0</td>\n",
       "      <td>0.62600</td>\n",
       "      <td>0.3</td>\n",
       "      <td>snow</td>\n",
       "    </tr>\n",
       "    <tr>\n",
       "      <th>1</th>\n",
       "      <td>NaT</td>\n",
       "      <td>-66.47</td>\n",
       "      <td>0.10</td>\n",
       "      <td>2.0</td>\n",
       "      <td>4.0</td>\n",
       "      <td>3.0</td>\n",
       "      <td>0.35400</td>\n",
       "      <td>0.2</td>\n",
       "      <td>snow</td>\n",
       "    </tr>\n",
       "    <tr>\n",
       "      <th>2</th>\n",
       "      <td>NaT</td>\n",
       "      <td>-66.47</td>\n",
       "      <td>0.10</td>\n",
       "      <td>4.0</td>\n",
       "      <td>6.0</td>\n",
       "      <td>5.0</td>\n",
       "      <td>0.24600</td>\n",
       "      <td>0.1</td>\n",
       "      <td>snow</td>\n",
       "    </tr>\n",
       "    <tr>\n",
       "      <th>3</th>\n",
       "      <td>NaT</td>\n",
       "      <td>-66.47</td>\n",
       "      <td>0.10</td>\n",
       "      <td>6.0</td>\n",
       "      <td>8.0</td>\n",
       "      <td>7.0</td>\n",
       "      <td>0.59200</td>\n",
       "      <td>0.3</td>\n",
       "      <td>snow</td>\n",
       "    </tr>\n",
       "    <tr>\n",
       "      <th>4</th>\n",
       "      <td>NaT</td>\n",
       "      <td>-66.47</td>\n",
       "      <td>0.10</td>\n",
       "      <td>8.0</td>\n",
       "      <td>10.0</td>\n",
       "      <td>9.0</td>\n",
       "      <td>6.99000</td>\n",
       "      <td>3.8</td>\n",
       "      <td>snow</td>\n",
       "    </tr>\n",
       "    <tr>\n",
       "      <th>...</th>\n",
       "      <td>...</td>\n",
       "      <td>...</td>\n",
       "      <td>...</td>\n",
       "      <td>...</td>\n",
       "      <td>...</td>\n",
       "      <td>...</td>\n",
       "      <td>...</td>\n",
       "      <td>...</td>\n",
       "      <td>...</td>\n",
       "    </tr>\n",
       "    <tr>\n",
       "      <th>233</th>\n",
       "      <td>NaT</td>\n",
       "      <td>-62.94</td>\n",
       "      <td>-53.33</td>\n",
       "      <td>29.0</td>\n",
       "      <td>31.0</td>\n",
       "      <td>30.0</td>\n",
       "      <td>0.00301</td>\n",
       "      <td>0.0</td>\n",
       "      <td>snow</td>\n",
       "    </tr>\n",
       "    <tr>\n",
       "      <th>234</th>\n",
       "      <td>NaT</td>\n",
       "      <td>-62.94</td>\n",
       "      <td>-53.33</td>\n",
       "      <td>31.0</td>\n",
       "      <td>33.0</td>\n",
       "      <td>32.0</td>\n",
       "      <td>0.05680</td>\n",
       "      <td>0.0</td>\n",
       "      <td>snow</td>\n",
       "    </tr>\n",
       "    <tr>\n",
       "      <th>235</th>\n",
       "      <td>NaT</td>\n",
       "      <td>-62.94</td>\n",
       "      <td>-53.33</td>\n",
       "      <td>33.0</td>\n",
       "      <td>35.0</td>\n",
       "      <td>34.0</td>\n",
       "      <td>0.00398</td>\n",
       "      <td>0.0</td>\n",
       "      <td>snow</td>\n",
       "    </tr>\n",
       "    <tr>\n",
       "      <th>236</th>\n",
       "      <td>NaT</td>\n",
       "      <td>-62.94</td>\n",
       "      <td>-53.33</td>\n",
       "      <td>35.0</td>\n",
       "      <td>40.0</td>\n",
       "      <td>37.5</td>\n",
       "      <td>0.00629</td>\n",
       "      <td>0.0</td>\n",
       "      <td>snow</td>\n",
       "    </tr>\n",
       "    <tr>\n",
       "      <th>237</th>\n",
       "      <td>NaT</td>\n",
       "      <td>-62.94</td>\n",
       "      <td>-53.33</td>\n",
       "      <td>40.0</td>\n",
       "      <td>42.0</td>\n",
       "      <td>41.0</td>\n",
       "      <td>0.00741</td>\n",
       "      <td>0.0</td>\n",
       "      <td>snow</td>\n",
       "    </tr>\n",
       "  </tbody>\n",
       "</table>\n",
       "<p>238 rows × 9 columns</p>\n",
       "</div>"
      ],
      "text/plain": [
       "              time, UTC    lat    lon   top   bot   mid  cond, mS/cm  \\\n",
       "0   2013-06-21 14:00:00 -66.47   0.10   0.0   2.0   1.0      0.62600   \n",
       "1                   NaT -66.47   0.10   2.0   4.0   3.0      0.35400   \n",
       "2                   NaT -66.47   0.10   4.0   6.0   5.0      0.24600   \n",
       "3                   NaT -66.47   0.10   6.0   8.0   7.0      0.59200   \n",
       "4                   NaT -66.47   0.10   8.0  10.0   9.0      6.99000   \n",
       "..                  ...    ...    ...   ...   ...   ...          ...   \n",
       "233                 NaT -62.94 -53.33  29.0  31.0  30.0      0.00301   \n",
       "234                 NaT -62.94 -53.33  31.0  33.0  32.0      0.05680   \n",
       "235                 NaT -62.94 -53.33  33.0  35.0  34.0      0.00398   \n",
       "236                 NaT -62.94 -53.33  35.0  40.0  37.5      0.00629   \n",
       "237                 NaT -62.94 -53.33  40.0  42.0  41.0      0.00741   \n",
       "\n",
       "     salinity sample type  \n",
       "0         0.3        snow  \n",
       "1         0.2        snow  \n",
       "2         0.1        snow  \n",
       "3         0.3        snow  \n",
       "4         3.8        snow  \n",
       "..        ...         ...  \n",
       "233       0.0        snow  \n",
       "234       0.0        snow  \n",
       "235       0.0        snow  \n",
       "236       0.0        snow  \n",
       "237       0.0        snow  \n",
       "\n",
       "[238 rows x 9 columns]"
      ]
     },
     "execution_count": 96,
     "metadata": {},
     "output_type": "execute_result"
    }
   ],
   "source": [
    "df"
   ]
  },
  {
   "cell_type": "code",
   "execution_count": 118,
   "id": "63a227e1-b3a3-40da-8552-a20d71fb7037",
   "metadata": {},
   "outputs": [],
   "source": [
    "lat = df.lat\n",
    "lon = df.lon\n",
    "\n",
    "sd_50 = [];\n",
    "sd_25 = [];\n",
    "sd_75 = [];\n",
    "salinity_median = [];\n",
    "salinity_25 = []\n",
    "salinity_75 = []\n",
    "snow_depth_bin = np.arange(0,81,10)\n",
    "\n",
    "salinity = df.salinity\n",
    "snow_bottom = df.top\n",
    "\n",
    "salinity_2 = salinity[salinity>0]\n",
    "snow_bottom_2 = snow_bottom[salinity>0]\n",
    "\n",
    "for i in range(len(snow_depth_bin)-1):\n",
    "    cond = (snow_bottom_2>snow_depth_bin[i]) & (snow_bottom_2<snow_depth_bin[i+1])\n",
    "        \n",
    "    salinity_slice = salinity[cond]\n",
    "    z = np.percentile(salinity_slice,50)\n",
    "    salinity_median = np.append(salinity_median, np.percentile(salinity_slice,50))\n",
    "    snow_bottom_slice = snow_bottom[cond]\n",
    "    sd_50 = np.append(sd_50,np.percentile(snow_bottom_slice,50))\n",
    "    \n",
    "    sd_25 = np.append(sd_25,np.percentile(snow_bottom_slice,25))\n",
    "    sd_75 = np.append(sd_75,np.percentile(snow_bottom_slice,75))\n",
    "    \n",
    "    salinity_25 = np.append(salinity_25, np.percentile(salinity_slice,25))\n",
    "    salinity_75 = np.append(salinity_75, np.percentile(salinity_slice,75))\n",
    "\n"
   ]
  },
  {
   "cell_type": "code",
   "execution_count": 98,
   "id": "cfd7783a-d173-4f04-8905-21d46dc818ff",
   "metadata": {},
   "outputs": [
    {
     "data": {
      "text/plain": [
       "[<matplotlib.lines.Line2D at 0x7fc672881ed0>]"
      ]
     },
     "execution_count": 115,
     "metadata": {},
     "output_type": "execute_result"
    },
    {
     "data": {
      "image/png": "[encoded data removed]",
      "text/plain": [
       "<Figure size 432x288 with 1 Axes>"
      ]
     },
     "metadata": {
      "needs_background": "light"
     },
     "output_type": "display_data"
    }
   ],
   "source": [
    "plt.plot(salinity_median,sd_50,'r.',markersize = 20)\n",
    "#plt.plot(salinity_median,)\n",
    "#plt.xscale('log')\n"
   ]
  },
  {
   "cell_type": "code",
   "execution_count": 99,
   "id": "509d35eb-1e5c-44d1-b7c6-6fbb1435b4db",
   "metadata": {},
   "outputs": [
    {
     "data": {
      "image/png": "[encoded data removed]",
      "text/plain": [
       "<Figure size 432x288 with 1 Axes>"
      ]
     },
     "metadata": {
      "needs_background": "light"
     },
     "output_type": "display_data"
    }
   ],
   "source": [
    "plt.plot(salinity,snow_bottom,'r*')\n",
    "plt.xscale('log')"
   ]
  },
  {
   "cell_type": "code",
   "execution_count": 53,
   "id": "4e725f36-738d-432d-9857-fdcd75517612",
   "metadata": {},
   "outputs": [
    {
     "ename": "NameError",
     "evalue": "name 'salinity_slice' is not defined",
     "output_type": "error",
     "traceback": [
      "\u001b[0;31m---------------------------------------------------------------------------\u001b[0m",
      "\u001b[0;31mNameError\u001b[0m                                 Traceback (most recent call last)",
      "\u001b[0;32m/var/folders/m6/qj3v2qcs35d7x8gdhqzsc7280000gn/T/ipykernel_31672/2293428845.py\u001b[0m in \u001b[0;36m<module>\u001b[0;34m\u001b[0m\n\u001b[0;32m----> 1\u001b[0;31m \u001b[0msalinity_slice\u001b[0m\u001b[0;34m\u001b[0m\u001b[0;34m\u001b[0m\u001b[0m\n\u001b[0m",
      "\u001b[0;31mNameError\u001b[0m: name 'salinity_slice' is not defined"
     ]
    }
   ],
   "source": [
    "salinity_slice"
   ]
  },
  {
   "cell_type": "code",
   "execution_count": 51,
   "id": "c9be8429-0a08-4866-b737-773eda0f63aa",
   "metadata": {},
   "outputs": [
    {
     "data": {
      "text/plain": [
       "array([5])"
      ]
     },
     "execution_count": 51,
     "metadata": {},
     "output_type": "execute_result"
    }
   ],
   "source": [
    "a = np.array([1,2,3,4,4,4,5,6])\n",
    "\n",
    "cond = (a!=4) & (a==5)\n",
    "\n",
    "a[cond]"
   ]
  },
  {
   "cell_type": "code",
   "execution_count": 77,
   "id": "cf153ba2-4f84-4d26-8b09-61723be58405",
   "metadata": {},
   "outputs": [
    {
     "data": {
      "text/plain": [
       "0      0.3\n",
       "1      0.2\n",
       "2      0.1\n",
       "3      0.3\n",
       "4      3.8\n",
       "      ... \n",
       "233    0.0\n",
       "234    0.0\n",
       "235    0.0\n",
       "236    0.0\n",
       "237    0.0\n",
       "Name: salinity, Length: 238, dtype: float64"
      ]
     },
     "execution_count": 77,
     "metadata": {},
     "output_type": "execute_result"
    }
   ],
   "source": [
    "salinity"
   ]
  },
  {
   "cell_type": "code",
   "execution_count": 78,
   "id": "fbf37e3c-d1e6-4f18-a614-b78d32491046",
   "metadata": {},
   "outputs": [
    {
     "data": {
      "text/plain": [
       "2.296875000000002"
      ]
     },
     "execution_count": 78,
     "metadata": {},
     "output_type": "execute_result"
    }
   ],
   "source": [
    "np.mean(salinity)"
   ]
  },
  {
   "cell_type": "code",
   "execution_count": 79,
   "id": "9d0f014f-84ed-46ba-883e-250a9adf3050",
   "metadata": {},
   "outputs": [
    {
     "data": {
      "text/plain": [
       "0      0.3\n",
       "1      0.2\n",
       "2      0.1\n",
       "3      0.3\n",
       "4      3.8\n",
       "      ... \n",
       "233    0.0\n",
       "234    0.0\n",
       "235    0.0\n",
       "236    0.0\n",
       "237    0.0\n",
       "Name: salinity, Length: 238, dtype: float64"
      ]
     },
     "execution_count": 79,
     "metadata": {},
     "output_type": "execute_result"
    }
   ],
   "source": [
    "salinity"
   ]
  },
  {
   "cell_type": "code",
   "execution_count": 80,
   "id": "f8408638-29dd-450f-8234-66f936d7a79e",
   "metadata": {},
   "outputs": [
    {
     "data": {
      "text/plain": [
       "(238,)"
      ]
     },
     "execution_count": 80,
     "metadata": {},
     "output_type": "execute_result"
    }
   ],
   "source": [
    "np.shape(salinity)"
   ]
  },
  {
   "cell_type": "code",
   "execution_count": 84,
   "id": "bc805ed3-3282-4467-9480-be268ffa7808",
   "metadata": {},
   "outputs": [
    {
     "data": {
      "text/plain": [
       "3.8"
      ]
     },
     "execution_count": 84,
     "metadata": {},
     "output_type": "execute_result"
    }
   ],
   "source": [
    "salinity[4]"
   ]
  },
  {
   "cell_type": "code",
   "execution_count": 100,
   "id": "ffafeba8-2354-4ccd-9fdb-dd8b6bfb4883",
   "metadata": {},
   "outputs": [],
   "source": [
    "salinity = df.salinity"
   ]
  },
  {
   "cell_type": "code",
   "execution_count": 101,
   "id": "3bc80adc-f9e5-4eb6-b784-d41b53fb805a",
   "metadata": {},
   "outputs": [
    {
     "data": {
      "text/plain": [
       "0.0"
      ]
     },
     "execution_count": 101,
     "metadata": {},
     "output_type": "execute_result"
    }
   ],
   "source": [
    "np.min(salinity)"
   ]
  },
  {
   "cell_type": "code",
   "execution_count": 102,
   "id": "6679a637-71a9-43a7-b7c7-7620f7c750cb",
   "metadata": {},
   "outputs": [
    {
     "data": {
      "text/plain": [
       "2.296875000000002"
      ]
     },
     "execution_count": 102,
     "metadata": {},
     "output_type": "execute_result"
    }
   ],
   "source": [
    "np.mean(salinity)"
   ]
  },
  {
   "cell_type": "code",
   "execution_count": null,
   "id": "608dbbe5-9683-4171-9cf1-718ab0f00136",
   "metadata": {},
   "outputs": [],
   "source": []
  }
 ],
 "metadata": {
  "kernelspec": {
   "display_name": "Python 3 (ipykernel)",
   "language": "python",
   "name": "python3"
  },
  "language_info": {
   "codemirror_mode": {
    "name": "ipython",
    "version": 3
   },
   "file_extension": ".py",
   "mimetype": "text/x-python",
   "name": "python",
   "nbconvert_exporter": "python",
   "pygments_lexer": "ipython3",
   "version": "3.7.13"
  }
 },
 "nbformat": 4,
 "nbformat_minor": 5
}
