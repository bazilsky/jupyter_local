{
 "cells": [
  {
   "cell_type": "code",
   "execution_count": 1,
   "id": "00c5f8e2-7a09-40a2-8825-6a5655181c42",
   "metadata": {},
   "outputs": [],
   "source": [
    "#interpolate snow depth and get it onto the tomcat grid\n",
    "import iris\n",
    "import numpy as np \n",
    "import geopy.distance as gd\n",
    "\n",
    "snow_depth = iris.load('snow_depth_1.nc')[0].data\n",
    "lat = iris.load('latitude.nc')[0].data\n",
    "lon = iris.load('longitude.nc')[0].data\n",
    "\n",
    "#tomcat lat and lon\n",
    "\n",
    "tomcat_lat = [87.86, 85.10, 82.31, 79.53, 76.74,\n",
    "        73.95, 71.16, 68.37, 65.58, 62.79,\n",
    "        60.00, 57.21, 54.42, 51.63, 48.84,\n",
    "        46.04, 43.25, 40.46, 37.67, 34.88,\n",
    "        32.09, 29.30, 26.51, 23.72, 20.93,\n",
    "        18.14, 15.35, 12.56,  9.77,  6.98,\n",
    "         4.19,  1.40, -1.40, -4.19, -6.98,\n",
    "        -9.77,-12.56,-15.35,-18.14,-20.93,\n",
    "       -23.72,-26.51,-29.30,-32.09,-34.88,\n",
    "       -37.67,-40.46,-43.25,-46.04,-48.84,\n",
    "       -51.63,-54.42,-57.21,-60.00,-62.79,\n",
    "       -65.58,-68.37,-71.16,-73.95,-76.74,\n",
    "       -79.53,-82.31,-85.10,-87.86]\n",
    "\n",
    "tomcat_lon_360 = np.arange(0,360,2.8125)\n",
    "\n",
    "tomcat_lon = []\n",
    "new_lon = 0\n",
    "\n",
    "for i in range(len(tomcat_lon_360)):\n",
    "    if tomcat_lon_360[i] > 180:\n",
    "        new_lon = tomcat_lon_360[i]-360\n",
    "    else:\n",
    "        new_lon = tomcat_lon_360[i]\n",
    "    tomcat_lon = np.append(tomcat_lon,new_lon)\n",
    "    \n",
    "tomcat_lon = np.sort(tomcat_lon)\n",
    "\n"
   ]
  },
  {
   "cell_type": "code",
   "execution_count": 3,
   "id": "2c159b98-f7af-44d0-ae2a-afb5fbd8cfa7",
   "metadata": {},
   "outputs": [],
   "source": [
    "new_snow_depth = np.zeros((12,130321,130321))\n",
    "#a = '130321'\n",
    "\n"
   ]
  },
  {
   "cell_type": "code",
   "execution_count": 4,
   "id": "d6d3444b-fbb0-4c3c-81bc-68fc5e8d5183",
   "metadata": {},
   "outputs": [
    {
     "name": "stdout",
     "output_type": "stream",
     "text": [
      "value of k =  0\n",
      "value of k =  1\n",
      "value of k =  2\n",
      "value of k =  3\n",
      "value of k =  4\n",
      "value of k =  5\n",
      "value of k =  6\n",
      "value of k =  7\n",
      "value of k =  8\n",
      "value of k =  9\n",
      "value of k =  10\n",
      "value of k =  11\n"
     ]
    }
   ],
   "source": [
    "lat_1d = lat.flatten()\n",
    "lon_1d = lon.flatten()\n",
    "\n",
    "for k in range(12):\n",
    "    print('value of k = ', k)\n",
    "    snow_depth_1d = snow_depth[k,:,:].flatten()\n",
    "    for i in range(130321):\n",
    "    #for j in range(722):\n",
    "        new_snow_depth[k,i,i] = snow_depth_1d[i]"
   ]
  },
  {
   "cell_type": "code",
   "execution_count": null,
   "id": "41252c1e-e07b-4bd3-a654-623504bf1dcc",
   "metadata": {},
   "outputs": [],
   "source": [
    "new_snow_depth_2 = np.sort(new_snow_depth, axis = 1)\n",
    "new_snow_depth_3 = np.sort(new_snow_depth_2, axis = 2)\n",
    "\n",
    "\n",
    "snow_depth_1d.shape"
   ]
  },
  {
   "cell_type": "code",
   "execution_count": 1,
   "id": "3bc4ce4f-ae35-48d4-89ea-ac4f6115edd3",
   "metadata": {},
   "outputs": [
    {
     "ename": "NameError",
     "evalue": "name 'np' is not defined",
     "output_type": "error",
     "traceback": [
      "\u001b[0;31m---------------------------------------------------------------------------\u001b[0m",
      "\u001b[0;31mNameError\u001b[0m                                 Traceback (most recent call last)",
      "\u001b[0;32m/var/folders/m6/qj3v2qcs35d7x8gdhqzsc7280000gn/T/ipykernel_42443/2367674593.py\u001b[0m in \u001b[0;36m<module>\u001b[0;34m\u001b[0m\n\u001b[1;32m     12\u001b[0m \u001b[0mlon_dim\u001b[0m \u001b[0;34m=\u001b[0m \u001b[0mds\u001b[0m\u001b[0;34m.\u001b[0m\u001b[0mcreateDimension\u001b[0m\u001b[0;34m(\u001b[0m\u001b[0;34m'unknown2'\u001b[0m\u001b[0;34m,\u001b[0m\u001b[0;36m130321\u001b[0m\u001b[0;34m)\u001b[0m\u001b[0;34m\u001b[0m\u001b[0;34m\u001b[0m\u001b[0m\n\u001b[1;32m     13\u001b[0m \u001b[0;34m\u001b[0m\u001b[0m\n\u001b[0;32m---> 14\u001b[0;31m \u001b[0mtemp_time\u001b[0m \u001b[0;34m=\u001b[0m \u001b[0mnp\u001b[0m\u001b[0;34m.\u001b[0m\u001b[0marange\u001b[0m\u001b[0;34m(\u001b[0m\u001b[0;36m1\u001b[0m\u001b[0;34m,\u001b[0m\u001b[0;36m13\u001b[0m\u001b[0;34m,\u001b[0m\u001b[0;36m1\u001b[0m\u001b[0;34m)\u001b[0m\u001b[0;34m\u001b[0m\u001b[0;34m\u001b[0m\u001b[0m\n\u001b[0m\u001b[1;32m     15\u001b[0m \u001b[0mtemp_lat\u001b[0m \u001b[0;34m=\u001b[0m \u001b[0mnp\u001b[0m\u001b[0;34m.\u001b[0m\u001b[0mlinspace\u001b[0m\u001b[0;34m(\u001b[0m\u001b[0;36m1\u001b[0m\u001b[0;34m,\u001b[0m\u001b[0;36m2\u001b[0m\u001b[0;34m,\u001b[0m\u001b[0;36m130321\u001b[0m\u001b[0;34m)\u001b[0m\u001b[0;34m\u001b[0m\u001b[0;34m\u001b[0m\u001b[0m\n\u001b[1;32m     16\u001b[0m \u001b[0mtemp_lon\u001b[0m \u001b[0;34m=\u001b[0m \u001b[0mnp\u001b[0m\u001b[0;34m.\u001b[0m\u001b[0mlinspace\u001b[0m\u001b[0;34m(\u001b[0m\u001b[0;36m1\u001b[0m\u001b[0;34m,\u001b[0m\u001b[0;36m2\u001b[0m\u001b[0;34m,\u001b[0m\u001b[0;36m130321\u001b[0m\u001b[0;34m)\u001b[0m\u001b[0;34m\u001b[0m\u001b[0;34m\u001b[0m\u001b[0m\n",
      "\u001b[0;31mNameError\u001b[0m: name 'np' is not defined"
     ]
    }
   ],
   "source": [
    "# save snow depth, latitude and longitude into a netcdf file\n",
    "import netCDF4 as nc\n",
    "import os\n",
    "\n",
    "fn = 'snow_depth_regrid.nc'\n",
    "\n",
    "os.remove(fn)\n",
    "ds = nc.Dataset(fn,'w',format = 'NETCDF4')\n",
    "\n",
    "time = ds.createDimension('time',12)\n",
    "lat_dim = ds.createDimension('unknown1',130321)\n",
    "lon_dim = ds.createDimension('unknown2',130321)\n",
    "\n",
    "temp_time = np.arange(1,13,1)\n",
    "temp_lat = np.linspace(1,2,130321)\n",
    "temp_lon = np.linspace(1,2,130321)\n",
    "np.shape(temp_time)\n",
    "\n",
    "times = ds.createVariable('time', 'f4', ('time',))\n",
    "lats = ds.createVariable('unknown1', 'f4', ('unknown1',))\n",
    "lons = ds.createVariable('unknown2', 'f4', ('unknown2',))\n",
    "value = ds.createVariable('snow_depth', 'f4', ('time', 'unknown1', 'unknown2',))\n",
    "value.units = 'm'\n",
    "\n",
    "lats[:]=temp_lat\n",
    "lons[:]=temp_lon\n",
    "times[:]= temp_time\n",
    "\n",
    "value[:,:,:] = new_snow_depth_3\n",
    "ds.close()\n",
    "\n",
    "cube111 = iris.load(fn)\n",
    "cube111\n"
   ]
  },
  {
   "cell_type": "code",
   "execution_count": 61,
   "id": "e9774284-4135-4fba-b6fd-ff0791e58061",
   "metadata": {},
   "outputs": [
    {
     "data": {
      "text/plain": [
       "array([ 1.,  2.,  3.,  4.,  5.,  6.,  7.,  8.,  9., 10., 11., 12.],\n",
       "      dtype=float32)"
      ]
     },
     "execution_count": 61,
     "metadata": {},
     "output_type": "execute_result"
    }
   ],
   "source": [
    "cube111[0].coord('time').points"
   ]
  },
  {
   "cell_type": "code",
   "execution_count": 72,
   "id": "5375f9fe-1350-41e4-88df-268f09232061",
   "metadata": {},
   "outputs": [
    {
     "data": {
      "text/plain": [
       "(130321,)"
      ]
     },
     "execution_count": 72,
     "metadata": {},
     "output_type": "execute_result"
    }
   ],
   "source": [
    "lat_1d.shape"
   ]
  },
  {
   "cell_type": "code",
   "execution_count": null,
   "id": "e54be12c-04ec-4ddd-b7ab-658127cb68a8",
   "metadata": {},
   "outputs": [],
   "source": []
  }
 ],
 "metadata": {
  "kernelspec": {
   "display_name": "Python 3 (ipykernel)",
   "language": "python",
   "name": "python3"
  },
  "language_info": {
   "codemirror_mode": {
    "name": "ipython",
    "version": 3
   },
   "file_extension": ".py",
   "mimetype": "text/x-python",
   "name": "python",
   "nbconvert_exporter": "python",
   "pygments_lexer": "ipython3",
   "version": "3.7.13"
  }
 },
 "nbformat": 4,
 "nbformat_minor": 5
}
