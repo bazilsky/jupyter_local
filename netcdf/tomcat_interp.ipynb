{
 "cells": [
  {
   "cell_type": "code",
   "execution_count": 51,
   "id": "00c5f8e2-7a09-40a2-8825-6a5655181c42",
   "metadata": {},
   "outputs": [],
   "source": [
    "#interpolate snow depth and get it onto the tomcat grid\n",
    "import iris\n",
    "import numpy as np \n",
    "import geopy.distance as gd\n",
    "\n",
    "snow_depth = iris.load('snow_depth_1.nc')[0].data\n",
    "lat = iris.load('latitude.nc')[0].data\n",
    "lon = iris.load('longitude.nc')[0].data\n",
    "\n",
    "#tomcat lat and lon\n",
    "\n",
    "tomcat_lat = [87.86, 85.10, 82.31, 79.53, 76.74,\n",
    "        73.95, 71.16, 68.37, 65.58, 62.79,\n",
    "        60.00, 57.21, 54.42, 51.63, 48.84,\n",
    "        46.04, 43.25, 40.46, 37.67, 34.88,\n",
    "        32.09, 29.30, 26.51, 23.72, 20.93,\n",
    "        18.14, 15.35, 12.56,  9.77,  6.98,\n",
    "         4.19,  1.40, -1.40, -4.19, -6.98,\n",
    "        -9.77,-12.56,-15.35,-18.14,-20.93,\n",
    "       -23.72,-26.51,-29.30,-32.09,-34.88,\n",
    "       -37.67,-40.46,-43.25,-46.04,-48.84,\n",
    "       -51.63,-54.42,-57.21,-60.00,-62.79,\n",
    "       -65.58,-68.37,-71.16,-73.95,-76.74,\n",
    "       -79.53,-82.31,-85.10,-87.86]\n",
    "\n",
    "tomcat_lon_360 = np.arange(0,360,2.8125)\n",
    "\n",
    "tomcat_lon = []\n",
    "new_lon = 0\n",
    "\n",
    "for i in range(len(tomcat_lon_360)):\n",
    "    if tomcat_lon_360[i] > 180:\n",
    "        new_lon = tomcat_lon_360[i]-360\n",
    "    else:\n",
    "        new_lon = tomcat_lon_360[i]\n",
    "    tomcat_lon = np.append(tomcat_lon,new_lon)\n",
    "    \n",
    "tomcat_lon = np.sort(tomcat_lon)\n",
    "\n"
   ]
  },
  {
   "cell_type": "code",
   "execution_count": 52,
   "id": "2c159b98-f7af-44d0-ae2a-afb5fbd8cfa7",
   "metadata": {},
   "outputs": [],
   "source": [
    "new_snow_depth = np.zeros((12,722,722))"
   ]
  },
  {
   "cell_type": "code",
   "execution_count": 53,
   "id": "d6d3444b-fbb0-4c3c-81bc-68fc5e8d5183",
   "metadata": {},
   "outputs": [
    {
     "name": "stdout",
     "output_type": "stream",
     "text": [
      "value of k =  0\n",
      "value of k =  1\n",
      "value of k =  2\n",
      "value of k =  3\n",
      "value of k =  4\n",
      "value of k =  5\n",
      "value of k =  6\n",
      "value of k =  7\n",
      "value of k =  8\n",
      "value of k =  9\n",
      "value of k =  10\n",
      "value of k =  11\n"
     ]
    }
   ],
   "source": [
    "\n",
    "lat_1d = lat.flatten()\n",
    "lon_1d = lon.flatten()\n",
    "\n",
    "for k in range(12):\n",
    "    print('value of k = ', k)\n",
    "    snow_depth_1d = snow_depth[k,:,:].flatten()\n",
    "    for i in range(722):\n",
    "    #for j in range(722):\n",
    "        new_snow_depth[k,i,i] = snow_depth_1d[i]"
   ]
  },
  {
   "cell_type": "code",
   "execution_count": 73,
   "id": "41252c1e-e07b-4bd3-a654-623504bf1dcc",
   "metadata": {},
   "outputs": [
    {
     "data": {
      "text/plain": [
       "(130321,)"
      ]
     },
     "execution_count": 73,
     "metadata": {},
     "output_type": "execute_result"
    }
   ],
   "source": [
    "new_snow_depth_2 = np.sort(new_snow_depth, axis = 1)\n",
    "new_snow_depth_3 = np.sort(new_snow_depth_2, axis = 2)\n",
    "\n",
    "\n",
    "snow_depth_1d.shape"
   ]
  },
  {
   "cell_type": "code",
   "execution_count": 71,
   "id": "3bc4ce4f-ae35-48d4-89ea-ac4f6115edd3",
   "metadata": {},
   "outputs": [
    {
     "data": {
      "text/html": [
       "\n",
       "<style>\n",
       "    .accordion-140242921106416 {\n",
       "        color: var(--jp-ui-font-color2);\n",
       "        background: var(--jp-layout-color2);\n",
       "        cursor: pointer;\n",
       "        padding: 10px;\n",
       "        border: 1px solid var(--jp-border-color0);\n",
       "        width: 100%;\n",
       "        text-align: left;\n",
       "        font-size: 14px;\n",
       "        font-family: var(--jp-code-font-family);\n",
       "        font-weight: normal;\n",
       "        outline: none;\n",
       "        transition: 0.4s;\n",
       "    }\n",
       "    .active {\n",
       "        background: var(--jp-layout-color1);\n",
       "        font-weight: 900;\n",
       "    }\n",
       "    .accordion-140242921106416.active {\n",
       "        border: 1px solid var(--jp-brand-color1) !important;\n",
       "    }\n",
       "    .accordion-140242921106416:hover {\n",
       "        box-shadow: var(--jp-input-box-shadow);\n",
       "        border: 2px solid var(--jp-brand-color1);\n",
       "    }\n",
       "    .panel-140242921106416 {\n",
       "        padding: 0 18px;\n",
       "        margin-bottom: 5px;\n",
       "        background-color: var(--jp-layout-color1);\n",
       "        display: none;\n",
       "        overflow: hidden;\n",
       "        border: 1px solid var(--jp-brand-color2);\n",
       "    }\n",
       "</style>\n",
       "<script type=\"text/javascript\">\n",
       "    var accordion = document.getElementsByClassName(\"accordion-140242921106416\");\n",
       "    var i;\n",
       "\n",
       "    for (i = 0; i < accordion.length; i++) {\n",
       "        accordion[i].addEventListener(\"click\", function() {\n",
       "            this.classList.toggle(\"active\");\n",
       "\n",
       "            var panel = this.nextElementSibling;\n",
       "            if (panel.style.display === \"block\") {\n",
       "                panel.style.display = \"none\";\n",
       "            } else {\n",
       "                panel.style.display = \"block\";\n",
       "            }\n",
       "        });\n",
       "    }\n",
       "</script>\n",
       "\n",
       "<button class=\"accordion-140242921106416\">0: snow_depth / (m)                    (time: 12; unknown1: 722; unknown2: 722)</button>\n",
       "<div class=\"panel-140242921106416\">\n",
       "    <p>\n",
       "<style>\n",
       "  a.iris {\n",
       "      text-decoration: none !important;\n",
       "  }\n",
       "  table.iris {\n",
       "      white-space: pre;\n",
       "      border: 1px solid;\n",
       "      border-color: #9c9c9c;\n",
       "      font-family: monaco, monospace;\n",
       "  }\n",
       "  th.iris {\n",
       "      background: #303f3f;\n",
       "      color: #e0e0e0;\n",
       "      border-left: 1px solid;\n",
       "      border-color: #9c9c9c;\n",
       "      font-size: 1.05em;\n",
       "      min-width: 50px;\n",
       "      max-width: 125px;\n",
       "  }\n",
       "  tr.iris :first-child {\n",
       "      border-right: 1px solid #9c9c9c !important;\n",
       "  }\n",
       "  td.iris-title {\n",
       "      background: #d5dcdf;\n",
       "      border-top: 1px solid #9c9c9c;\n",
       "      font-weight: bold;\n",
       "  }\n",
       "  .iris-word-cell {\n",
       "      text-align: left !important;\n",
       "      white-space: pre;\n",
       "  }\n",
       "  .iris-subheading-cell {\n",
       "      padding-left: 2em !important;\n",
       "  }\n",
       "  .iris-inclusion-cell {\n",
       "      padding-right: 1em !important;\n",
       "  }\n",
       "  .iris-panel-body {\n",
       "      padding-top: 0px;\n",
       "  }\n",
       "  .iris-panel-title {\n",
       "      padding-left: 3em;\n",
       "  }\n",
       "  .iris-panel-title {\n",
       "      margin-top: 7px;\n",
       "  }\n",
       "</style>\n",
       "<table class=\"iris\" id=\"140243166178960\">\n",
       "    <tr class=\"iris\">\n",
       "<th class=\"iris iris-word-cell\">Snow Depth (m)</th>\n",
       "<th class=\"iris iris-word-cell\">time</th>\n",
       "<th class=\"iris iris-word-cell\">unknown1</th>\n",
       "<th class=\"iris iris-word-cell\">unknown2</th>\n",
       "</tr>\n",
       "    <tr class=\"iris\">\n",
       "<td class=\"iris-word-cell iris-subheading-cell\">Shape</td>\n",
       "<td class=\"iris iris-inclusion-cell\">12</td>\n",
       "<td class=\"iris iris-inclusion-cell\">722</td>\n",
       "<td class=\"iris iris-inclusion-cell\">722</td>\n",
       "</tr>\n",
       "    <tr class=\"iris\">\n",
       "    <td class=\"iris-title iris-word-cell\">Dimension coordinates</td>\n",
       "    <td class=\"iris-title\"></td>\n",
       "    <td class=\"iris-title\"></td>\n",
       "    <td class=\"iris-title\"></td>\n",
       "</tr>\n",
       "<tr class=\"iris\">\n",
       "    <td class=\"iris-word-cell iris-subheading-cell\">\ttime</td>\n",
       "    <td class=\"iris-inclusion-cell\">x</td>\n",
       "    <td class=\"iris-inclusion-cell\">-</td>\n",
       "    <td class=\"iris-inclusion-cell\">-</td>\n",
       "</tr>\n",
       "<tr class=\"iris\">\n",
       "    <td class=\"iris-word-cell iris-subheading-cell\">\tunknown1</td>\n",
       "    <td class=\"iris-inclusion-cell\">-</td>\n",
       "    <td class=\"iris-inclusion-cell\">x</td>\n",
       "    <td class=\"iris-inclusion-cell\">-</td>\n",
       "</tr>\n",
       "<tr class=\"iris\">\n",
       "    <td class=\"iris-word-cell iris-subheading-cell\">\tunknown2</td>\n",
       "    <td class=\"iris-inclusion-cell\">-</td>\n",
       "    <td class=\"iris-inclusion-cell\">-</td>\n",
       "    <td class=\"iris-inclusion-cell\">x</td>\n",
       "</tr>\n",
       "</table>\n",
       "        </p>\n",
       "</div>\n",
       "    \n",
       "    "
      ],
      "text/plain": [
       "[<iris 'Cube' of snow_depth / (m) (time: 12; unknown1: 722; unknown2: 722)>]"
      ]
     },
     "execution_count": 71,
     "metadata": {},
     "output_type": "execute_result"
    }
   ],
   "source": [
    "# save snow depth, latitude and longitude into a netcdf file\n",
    "import netCDF4 as nc\n",
    "import os\n",
    "\n",
    "fn = 'snow_depth_regrid.nc'\n",
    "\n",
    "os.remove(fn)\n",
    "ds = nc.Dataset(fn,'w',format = 'NETCDF4')\n",
    "\n",
    "time = ds.createDimension('time',12)\n",
    "lat_dim = ds.createDimension('unknown1',722)\n",
    "lon_dim = ds.createDimension('unknown2',722)\n",
    "\n",
    "temp_time = np.arange(1,13,1)\n",
    "temp_lat = np.linspace(1,2,722)\n",
    "temp_lon = np.linspace(1,2,722)\n",
    "np.shape(temp_time)\n",
    "\n",
    "times = ds.createVariable('time', 'f4', ('time',))\n",
    "lats = ds.createVariable('unknown1', 'f4', ('unknown1',))\n",
    "lons = ds.createVariable('unknown2', 'f4', ('unknown2',))\n",
    "value = ds.createVariable('snow_depth', 'f4', ('time', 'unknown1', 'unknown2',))\n",
    "value.units = 'm'\n",
    "\n",
    "lats[:]=temp_lat\n",
    "lons[:]=temp_lon\n",
    "times[:]= temp_time\n",
    "\n",
    "value[:,:,:] = new_snow_depth_3\n",
    "ds.close()\n",
    "\n",
    "cube111 = iris.load(fn)\n",
    "cube111\n"
   ]
  },
  {
   "cell_type": "code",
   "execution_count": 61,
   "id": "e9774284-4135-4fba-b6fd-ff0791e58061",
   "metadata": {},
   "outputs": [
    {
     "data": {
      "text/plain": [
       "array([ 1.,  2.,  3.,  4.,  5.,  6.,  7.,  8.,  9., 10., 11., 12.],\n",
       "      dtype=float32)"
      ]
     },
     "execution_count": 61,
     "metadata": {},
     "output_type": "execute_result"
    }
   ],
   "source": [
    "cube111[0].coord('time').points"
   ]
  },
  {
   "cell_type": "code",
   "execution_count": 72,
   "id": "5375f9fe-1350-41e4-88df-268f09232061",
   "metadata": {},
   "outputs": [
    {
     "data": {
      "text/plain": [
       "(130321,)"
      ]
     },
     "execution_count": 72,
     "metadata": {},
     "output_type": "execute_result"
    }
   ],
   "source": [
    "lat_1d.shape"
   ]
  },
  {
   "cell_type": "code",
   "execution_count": null,
   "id": "e54be12c-04ec-4ddd-b7ab-658127cb68a8",
   "metadata": {},
   "outputs": [],
   "source": []
  }
 ],
 "metadata": {
  "kernelspec": {
   "display_name": "Python 3 (ipykernel)",
   "language": "python",
   "name": "python3"
  },
  "language_info": {
   "codemirror_mode": {
    "name": "ipython",
    "version": 3
   },
   "file_extension": ".py",
   "mimetype": "text/x-python",
   "name": "python",
   "nbconvert_exporter": "python",
   "pygments_lexer": "ipython3",
   "version": "3.7.13"
  }
 },
 "nbformat": 4,
 "nbformat_minor": 5
}
